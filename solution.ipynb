{
 "cells": [
  {
   "cell_type": "code",
   "execution_count": 106,
   "metadata": {},
   "outputs": [],
   "source": [
    "import pandas as pd\n",
    "import numpy as np\n",
    "import datetime\n",
    "import seaborn as sns\n",
    "import matplotlib.pyplot as plt\n",
    "%matplotlib inline\n",
    "import lightgbm as lgbm\n",
    "\n",
    "from sklearn.model_selection import train_test_split, GridSearchCV, RandomizedSearchCV\n",
    "from sklearn.pipeline import Pipeline\n",
    "from sklearn.compose import ColumnTransformer\n",
    "from sklearn.impute import SimpleImputer\n",
    "from sklearn.preprocessing import OneHotEncoder\n",
    "from sklearn.preprocessing import StandardScaler\n"
   ]
  },
  {
   "cell_type": "code",
   "execution_count": 2,
   "metadata": {},
   "outputs": [
    {
     "name": "stderr",
     "output_type": "stream",
     "text": [
      "c:\\ProgramData\\Anaconda3\\lib\\site-packages\\IPython\\core\\interactiveshell.py:3165: DtypeWarning: Columns (1,6) have mixed types.Specify dtype option on import or set low_memory=False.\n",
      "  has_raised = await self.run_ast_nodes(code_ast.body, cell_name,\n"
     ]
    }
   ],
   "source": [
    "df = pd.read_csv('dataset_SCL.csv')"
   ]
  },
  {
   "cell_type": "code",
   "execution_count": null,
   "metadata": {},
   "outputs": [],
   "source": [
    "'''\n",
    "Detalle de variables:\n",
    "\n",
    "Fecha-I : Fecha y hora programada del vuelo.\n",
    "Vlo-I : Número de vuelo programado.\n",
    "Ori-I : Código de ciudad de origen programado.\n",
    "Des-I : Código de ciudad de destino programado.\n",
    "Emp-I : Código aerolínea de vuelo programado.\n",
    "Fecha-O : Fecha y hora de operación del vuelo.\n",
    "Vlo-O : Número de vuelo de operación del vuelo.\n",
    "Ori-O : Código de ciudad de origen de operación\n",
    "Des-O : Código de ciudad de destino de operación.\n",
    "Emp-O : Código aerolínea de vuelo operado.\n",
    "DIA : Día del mes de operación del vuelo.\n",
    "MES : Número de mes de operación del vuelo.\n",
    "AÑO : Año de operación del vuelo.\n",
    "DIANOM : Día de la semana de operación del vuelo.\n",
    "TIPOVUELO : Tipo de vuelo, I =Internacional, N =Nacional.\n",
    "OPERA : Nombre de aerolínea que opera.\n",
    "SIGLAORI : Nombre ciudad origen.\n",
    "SIGLADES : Nombre ciudad destino.\n",
    "'''"
   ]
  },
  {
   "cell_type": "code",
   "execution_count": 3,
   "metadata": {},
   "outputs": [
    {
     "data": {
      "text/html": [
       "<div>\n",
       "<style scoped>\n",
       "    .dataframe tbody tr th:only-of-type {\n",
       "        vertical-align: middle;\n",
       "    }\n",
       "\n",
       "    .dataframe tbody tr th {\n",
       "        vertical-align: top;\n",
       "    }\n",
       "\n",
       "    .dataframe thead th {\n",
       "        text-align: right;\n",
       "    }\n",
       "</style>\n",
       "<table border=\"1\" class=\"dataframe\">\n",
       "  <thead>\n",
       "    <tr style=\"text-align: right;\">\n",
       "      <th></th>\n",
       "      <th>Fecha-I</th>\n",
       "      <th>Vlo-I</th>\n",
       "      <th>Ori-I</th>\n",
       "      <th>Des-I</th>\n",
       "      <th>Emp-I</th>\n",
       "      <th>Fecha-O</th>\n",
       "      <th>Vlo-O</th>\n",
       "      <th>Ori-O</th>\n",
       "      <th>Des-O</th>\n",
       "      <th>Emp-O</th>\n",
       "      <th>DIA</th>\n",
       "      <th>MES</th>\n",
       "      <th>AÑO</th>\n",
       "      <th>DIANOM</th>\n",
       "      <th>TIPOVUELO</th>\n",
       "      <th>OPERA</th>\n",
       "      <th>SIGLAORI</th>\n",
       "      <th>SIGLADES</th>\n",
       "    </tr>\n",
       "  </thead>\n",
       "  <tbody>\n",
       "    <tr>\n",
       "      <th>0</th>\n",
       "      <td>2017-01-01 23:30:00</td>\n",
       "      <td>226</td>\n",
       "      <td>SCEL</td>\n",
       "      <td>KMIA</td>\n",
       "      <td>AAL</td>\n",
       "      <td>2017-01-01 23:33:00</td>\n",
       "      <td>226</td>\n",
       "      <td>SCEL</td>\n",
       "      <td>KMIA</td>\n",
       "      <td>AAL</td>\n",
       "      <td>1</td>\n",
       "      <td>1</td>\n",
       "      <td>2017</td>\n",
       "      <td>Domingo</td>\n",
       "      <td>I</td>\n",
       "      <td>American Airlines</td>\n",
       "      <td>Santiago</td>\n",
       "      <td>Miami</td>\n",
       "    </tr>\n",
       "    <tr>\n",
       "      <th>1</th>\n",
       "      <td>2017-01-02 23:30:00</td>\n",
       "      <td>226</td>\n",
       "      <td>SCEL</td>\n",
       "      <td>KMIA</td>\n",
       "      <td>AAL</td>\n",
       "      <td>2017-01-02 23:39:00</td>\n",
       "      <td>226</td>\n",
       "      <td>SCEL</td>\n",
       "      <td>KMIA</td>\n",
       "      <td>AAL</td>\n",
       "      <td>2</td>\n",
       "      <td>1</td>\n",
       "      <td>2017</td>\n",
       "      <td>Lunes</td>\n",
       "      <td>I</td>\n",
       "      <td>American Airlines</td>\n",
       "      <td>Santiago</td>\n",
       "      <td>Miami</td>\n",
       "    </tr>\n",
       "    <tr>\n",
       "      <th>2</th>\n",
       "      <td>2017-01-03 23:30:00</td>\n",
       "      <td>226</td>\n",
       "      <td>SCEL</td>\n",
       "      <td>KMIA</td>\n",
       "      <td>AAL</td>\n",
       "      <td>2017-01-03 23:39:00</td>\n",
       "      <td>226</td>\n",
       "      <td>SCEL</td>\n",
       "      <td>KMIA</td>\n",
       "      <td>AAL</td>\n",
       "      <td>3</td>\n",
       "      <td>1</td>\n",
       "      <td>2017</td>\n",
       "      <td>Martes</td>\n",
       "      <td>I</td>\n",
       "      <td>American Airlines</td>\n",
       "      <td>Santiago</td>\n",
       "      <td>Miami</td>\n",
       "    </tr>\n",
       "    <tr>\n",
       "      <th>3</th>\n",
       "      <td>2017-01-04 23:30:00</td>\n",
       "      <td>226</td>\n",
       "      <td>SCEL</td>\n",
       "      <td>KMIA</td>\n",
       "      <td>AAL</td>\n",
       "      <td>2017-01-04 23:33:00</td>\n",
       "      <td>226</td>\n",
       "      <td>SCEL</td>\n",
       "      <td>KMIA</td>\n",
       "      <td>AAL</td>\n",
       "      <td>4</td>\n",
       "      <td>1</td>\n",
       "      <td>2017</td>\n",
       "      <td>Miercoles</td>\n",
       "      <td>I</td>\n",
       "      <td>American Airlines</td>\n",
       "      <td>Santiago</td>\n",
       "      <td>Miami</td>\n",
       "    </tr>\n",
       "    <tr>\n",
       "      <th>4</th>\n",
       "      <td>2017-01-05 23:30:00</td>\n",
       "      <td>226</td>\n",
       "      <td>SCEL</td>\n",
       "      <td>KMIA</td>\n",
       "      <td>AAL</td>\n",
       "      <td>2017-01-05 23:28:00</td>\n",
       "      <td>226</td>\n",
       "      <td>SCEL</td>\n",
       "      <td>KMIA</td>\n",
       "      <td>AAL</td>\n",
       "      <td>5</td>\n",
       "      <td>1</td>\n",
       "      <td>2017</td>\n",
       "      <td>Jueves</td>\n",
       "      <td>I</td>\n",
       "      <td>American Airlines</td>\n",
       "      <td>Santiago</td>\n",
       "      <td>Miami</td>\n",
       "    </tr>\n",
       "  </tbody>\n",
       "</table>\n",
       "</div>"
      ],
      "text/plain": [
       "               Fecha-I Vlo-I Ori-I Des-I Emp-I              Fecha-O Vlo-O  \\\n",
       "0  2017-01-01 23:30:00   226  SCEL  KMIA   AAL  2017-01-01 23:33:00   226   \n",
       "1  2017-01-02 23:30:00   226  SCEL  KMIA   AAL  2017-01-02 23:39:00   226   \n",
       "2  2017-01-03 23:30:00   226  SCEL  KMIA   AAL  2017-01-03 23:39:00   226   \n",
       "3  2017-01-04 23:30:00   226  SCEL  KMIA   AAL  2017-01-04 23:33:00   226   \n",
       "4  2017-01-05 23:30:00   226  SCEL  KMIA   AAL  2017-01-05 23:28:00   226   \n",
       "\n",
       "  Ori-O Des-O Emp-O  DIA  MES   AÑO     DIANOM TIPOVUELO              OPERA  \\\n",
       "0  SCEL  KMIA   AAL    1    1  2017    Domingo         I  American Airlines   \n",
       "1  SCEL  KMIA   AAL    2    1  2017      Lunes         I  American Airlines   \n",
       "2  SCEL  KMIA   AAL    3    1  2017     Martes         I  American Airlines   \n",
       "3  SCEL  KMIA   AAL    4    1  2017  Miercoles         I  American Airlines   \n",
       "4  SCEL  KMIA   AAL    5    1  2017     Jueves         I  American Airlines   \n",
       "\n",
       "   SIGLAORI SIGLADES  \n",
       "0  Santiago    Miami  \n",
       "1  Santiago    Miami  \n",
       "2  Santiago    Miami  \n",
       "3  Santiago    Miami  \n",
       "4  Santiago    Miami  "
      ]
     },
     "execution_count": 3,
     "metadata": {},
     "output_type": "execute_result"
    }
   ],
   "source": [
    "df.head()"
   ]
  },
  {
   "cell_type": "markdown",
   "metadata": {},
   "source": [
    "# Desafío"
   ]
  },
  {
   "cell_type": "markdown",
   "metadata": {},
   "source": [
    "##### 1. ¿Cómo se distribuyen los datos? ¿Qué te llama la atención o cuál es tu conclusión sobre esto?"
   ]
  },
  {
   "cell_type": "markdown",
   "metadata": {},
   "source": [
    "El dataset cuenta con 68.206 filas y 18 columnas"
   ]
  },
  {
   "cell_type": "code",
   "execution_count": 4,
   "metadata": {},
   "outputs": [
    {
     "data": {
      "text/plain": [
       "(68206, 18)"
      ]
     },
     "execution_count": 4,
     "metadata": {},
     "output_type": "execute_result"
    }
   ],
   "source": [
    "df.shape"
   ]
  },
  {
   "cell_type": "markdown",
   "metadata": {},
   "source": [
    "Tenemos solo un dato nulo en el campo 'Vlo-O' (Número de vuelo de operación del vuelo.)"
   ]
  },
  {
   "cell_type": "code",
   "execution_count": 5,
   "metadata": {},
   "outputs": [
    {
     "data": {
      "text/plain": [
       "Fecha-I      0\n",
       "Vlo-I        0\n",
       "Ori-I        0\n",
       "Des-I        0\n",
       "Emp-I        0\n",
       "Fecha-O      0\n",
       "Vlo-O        1\n",
       "Ori-O        0\n",
       "Des-O        0\n",
       "Emp-O        0\n",
       "DIA          0\n",
       "MES          0\n",
       "AÑO          0\n",
       "DIANOM       0\n",
       "TIPOVUELO    0\n",
       "OPERA        0\n",
       "SIGLAORI     0\n",
       "SIGLADES     0\n",
       "dtype: int64"
      ]
     },
     "execution_count": 5,
     "metadata": {},
     "output_type": "execute_result"
    }
   ],
   "source": [
    "df.isnull().sum()"
   ]
  },
  {
   "cell_type": "code",
   "execution_count": 6,
   "metadata": {},
   "outputs": [
    {
     "data": {
      "text/html": [
       "<div>\n",
       "<style scoped>\n",
       "    .dataframe tbody tr th:only-of-type {\n",
       "        vertical-align: middle;\n",
       "    }\n",
       "\n",
       "    .dataframe tbody tr th {\n",
       "        vertical-align: top;\n",
       "    }\n",
       "\n",
       "    .dataframe thead th {\n",
       "        text-align: right;\n",
       "    }\n",
       "</style>\n",
       "<table border=\"1\" class=\"dataframe\">\n",
       "  <thead>\n",
       "    <tr style=\"text-align: right;\">\n",
       "      <th></th>\n",
       "      <th>Fecha-I</th>\n",
       "      <th>Vlo-I</th>\n",
       "      <th>Ori-I</th>\n",
       "      <th>Des-I</th>\n",
       "      <th>Emp-I</th>\n",
       "      <th>Fecha-O</th>\n",
       "      <th>Vlo-O</th>\n",
       "      <th>Ori-O</th>\n",
       "      <th>Des-O</th>\n",
       "      <th>Emp-O</th>\n",
       "      <th>DIA</th>\n",
       "      <th>MES</th>\n",
       "      <th>AÑO</th>\n",
       "      <th>DIANOM</th>\n",
       "      <th>TIPOVUELO</th>\n",
       "      <th>OPERA</th>\n",
       "      <th>SIGLAORI</th>\n",
       "      <th>SIGLADES</th>\n",
       "    </tr>\n",
       "  </thead>\n",
       "  <tbody>\n",
       "    <tr>\n",
       "      <th>6068</th>\n",
       "      <td>2017-01-19 11:00:00</td>\n",
       "      <td>200</td>\n",
       "      <td>SCEL</td>\n",
       "      <td>SPJC</td>\n",
       "      <td>LAW</td>\n",
       "      <td>2017-01-19 11:03:00</td>\n",
       "      <td>NaN</td>\n",
       "      <td>SCEL</td>\n",
       "      <td>SPJC</td>\n",
       "      <td>56R</td>\n",
       "      <td>19</td>\n",
       "      <td>1</td>\n",
       "      <td>2017</td>\n",
       "      <td>Jueves</td>\n",
       "      <td>I</td>\n",
       "      <td>Latin American Wings</td>\n",
       "      <td>Santiago</td>\n",
       "      <td>Lima</td>\n",
       "    </tr>\n",
       "  </tbody>\n",
       "</table>\n",
       "</div>"
      ],
      "text/plain": [
       "                  Fecha-I Vlo-I Ori-I Des-I Emp-I              Fecha-O Vlo-O  \\\n",
       "6068  2017-01-19 11:00:00   200  SCEL  SPJC   LAW  2017-01-19 11:03:00   NaN   \n",
       "\n",
       "     Ori-O Des-O Emp-O  DIA  MES   AÑO  DIANOM TIPOVUELO  \\\n",
       "6068  SCEL  SPJC   56R   19    1  2017  Jueves         I   \n",
       "\n",
       "                     OPERA  SIGLAORI SIGLADES  \n",
       "6068  Latin American Wings  Santiago     Lima  "
      ]
     },
     "execution_count": 6,
     "metadata": {},
     "output_type": "execute_result"
    }
   ],
   "source": [
    "df[df['Vlo-O'].isnull()]"
   ]
  },
  {
   "cell_type": "markdown",
   "metadata": {},
   "source": [
    "Podemos ver que en 97% de os casos el campo 'Vlo-O' es identico al campo 'Vlo-I', por lo tanto, para este caso nulo remplazaremos ese valor."
   ]
  },
  {
   "cell_type": "code",
   "execution_count": 7,
   "metadata": {},
   "outputs": [
    {
     "data": {
      "text/plain": [
       "0.9728762865437058"
      ]
     },
     "execution_count": 7,
     "metadata": {},
     "output_type": "execute_result"
    }
   ],
   "source": [
    "df[df['Vlo-O']==df['Vlo-I']].shape[0]/df.shape[0]"
   ]
  },
  {
   "cell_type": "code",
   "execution_count": 8,
   "metadata": {},
   "outputs": [],
   "source": [
    "df['Vlo-O'] = df['Vlo-O'].fillna(df['Vlo-I'])"
   ]
  },
  {
   "cell_type": "markdown",
   "metadata": {},
   "source": [
    "Al ver los tipos de datos, vemos que predominan los datos categoricos. \n",
    "\n",
    "Tranformaremos los campos 'Fecha-I' y 'Fecha-O' de object a datetime"
   ]
  },
  {
   "cell_type": "code",
   "execution_count": 9,
   "metadata": {},
   "outputs": [
    {
     "data": {
      "text/plain": [
       "Fecha-I      object\n",
       "Vlo-I        object\n",
       "Ori-I        object\n",
       "Des-I        object\n",
       "Emp-I        object\n",
       "Fecha-O      object\n",
       "Vlo-O        object\n",
       "Ori-O        object\n",
       "Des-O        object\n",
       "Emp-O        object\n",
       "DIA           int64\n",
       "MES           int64\n",
       "AÑO           int64\n",
       "DIANOM       object\n",
       "TIPOVUELO    object\n",
       "OPERA        object\n",
       "SIGLAORI     object\n",
       "SIGLADES     object\n",
       "dtype: object"
      ]
     },
     "execution_count": 9,
     "metadata": {},
     "output_type": "execute_result"
    }
   ],
   "source": [
    "df.dtypes"
   ]
  },
  {
   "cell_type": "code",
   "execution_count": 10,
   "metadata": {},
   "outputs": [],
   "source": [
    "df[[\"Fecha-I\", \"Fecha-O\"]] = df[[\"Fecha-I\", \"Fecha-O\"]].apply(pd.to_datetime)"
   ]
  },
  {
   "cell_type": "markdown",
   "metadata": {},
   "source": [
    "El rango temporal de los vuelos porgramados corresponde a todo el año 2017, en los vuelos programados a última hora del 2017 desbordaron al al 1 de enero del 2018.\n",
    "\n",
    "Al graficar los datos, se observan peaks en la epoca de verano, vavaciones de invierno y una disminución entre marzo y julio.\n",
    "\n",
    "Los campos DIA, MES, AÑO, corresponden a la Fehca de operación. Crearemos campos similares para la Fecha Programada.\n",
    "\n",
    "Más adelante observaremos en mayor detalle los cruces por tipo de vuelo, destinos, horarios, etc."
   ]
  },
  {
   "cell_type": "code",
   "execution_count": 11,
   "metadata": {},
   "outputs": [],
   "source": [
    "#creamos variables para fecha porgramada\n",
    "df['Dia-I'] = df['Fecha-I'].dt.day\n",
    "df['Mes-I'] = df['Fecha-I'].dt.month\n",
    "df['Año-I'] = df['Fecha-I'].dt.year\n",
    "df['DiaNom-I'] = df['Fecha-I'].dt.strftime('%A')"
   ]
  },
  {
   "cell_type": "code",
   "execution_count": 12,
   "metadata": {},
   "outputs": [
    {
     "data": {
      "text/html": [
       "<div>\n",
       "<style scoped>\n",
       "    .dataframe tbody tr th:only-of-type {\n",
       "        vertical-align: middle;\n",
       "    }\n",
       "\n",
       "    .dataframe tbody tr th {\n",
       "        vertical-align: top;\n",
       "    }\n",
       "\n",
       "    .dataframe thead th {\n",
       "        text-align: right;\n",
       "    }\n",
       "</style>\n",
       "<table border=\"1\" class=\"dataframe\">\n",
       "  <thead>\n",
       "    <tr style=\"text-align: right;\">\n",
       "      <th></th>\n",
       "      <th>Fecha-I</th>\n",
       "      <th>Fecha-O</th>\n",
       "      <th>DIA</th>\n",
       "      <th>MES</th>\n",
       "      <th>AÑO</th>\n",
       "      <th>Dia-I</th>\n",
       "      <th>Mes-I</th>\n",
       "      <th>Año-I</th>\n",
       "    </tr>\n",
       "  </thead>\n",
       "  <tbody>\n",
       "    <tr>\n",
       "      <th>count</th>\n",
       "      <td>68206</td>\n",
       "      <td>68206</td>\n",
       "      <td>68206.000000</td>\n",
       "      <td>68206.000000</td>\n",
       "      <td>68206.000000</td>\n",
       "      <td>68206.000000</td>\n",
       "      <td>68206.000000</td>\n",
       "      <td>68206.0</td>\n",
       "    </tr>\n",
       "    <tr>\n",
       "      <th>mean</th>\n",
       "      <td>2017-07-05 12:11:25.320059648</td>\n",
       "      <td>2017-07-05 12:20:31.971380992</td>\n",
       "      <td>15.714790</td>\n",
       "      <td>6.622585</td>\n",
       "      <td>2017.000029</td>\n",
       "      <td>15.714321</td>\n",
       "      <td>6.622804</td>\n",
       "      <td>2017.0</td>\n",
       "    </tr>\n",
       "    <tr>\n",
       "      <th>min</th>\n",
       "      <td>2017-01-01 00:15:00</td>\n",
       "      <td>2017-01-01 00:04:00</td>\n",
       "      <td>1.000000</td>\n",
       "      <td>1.000000</td>\n",
       "      <td>2017.000000</td>\n",
       "      <td>1.000000</td>\n",
       "      <td>1.000000</td>\n",
       "      <td>2017.0</td>\n",
       "    </tr>\n",
       "    <tr>\n",
       "      <th>25%</th>\n",
       "      <td>2017-03-31 12:41:15</td>\n",
       "      <td>2017-03-31 12:51:15</td>\n",
       "      <td>8.000000</td>\n",
       "      <td>3.000000</td>\n",
       "      <td>2017.000000</td>\n",
       "      <td>8.000000</td>\n",
       "      <td>3.000000</td>\n",
       "      <td>2017.0</td>\n",
       "    </tr>\n",
       "    <tr>\n",
       "      <th>50%</th>\n",
       "      <td>2017-07-10 05:30:00</td>\n",
       "      <td>2017-07-10 05:37:00</td>\n",
       "      <td>16.000000</td>\n",
       "      <td>7.000000</td>\n",
       "      <td>2017.000000</td>\n",
       "      <td>16.000000</td>\n",
       "      <td>7.000000</td>\n",
       "      <td>2017.0</td>\n",
       "    </tr>\n",
       "    <tr>\n",
       "      <th>75%</th>\n",
       "      <td>2017-10-08 11:18:45</td>\n",
       "      <td>2017-10-08 11:19:45</td>\n",
       "      <td>23.000000</td>\n",
       "      <td>10.000000</td>\n",
       "      <td>2017.000000</td>\n",
       "      <td>23.000000</td>\n",
       "      <td>10.000000</td>\n",
       "      <td>2017.0</td>\n",
       "    </tr>\n",
       "    <tr>\n",
       "      <th>max</th>\n",
       "      <td>2017-12-31 23:55:00</td>\n",
       "      <td>2018-01-01 00:12:00</td>\n",
       "      <td>31.000000</td>\n",
       "      <td>12.000000</td>\n",
       "      <td>2018.000000</td>\n",
       "      <td>31.000000</td>\n",
       "      <td>12.000000</td>\n",
       "      <td>2017.0</td>\n",
       "    </tr>\n",
       "    <tr>\n",
       "      <th>std</th>\n",
       "      <td>NaN</td>\n",
       "      <td>NaN</td>\n",
       "      <td>8.782886</td>\n",
       "      <td>3.523321</td>\n",
       "      <td>0.005415</td>\n",
       "      <td>8.783229</td>\n",
       "      <td>3.523376</td>\n",
       "      <td>0.0</td>\n",
       "    </tr>\n",
       "  </tbody>\n",
       "</table>\n",
       "</div>"
      ],
      "text/plain": [
       "                             Fecha-I                        Fecha-O  \\\n",
       "count                          68206                          68206   \n",
       "mean   2017-07-05 12:11:25.320059648  2017-07-05 12:20:31.971380992   \n",
       "min              2017-01-01 00:15:00            2017-01-01 00:04:00   \n",
       "25%              2017-03-31 12:41:15            2017-03-31 12:51:15   \n",
       "50%              2017-07-10 05:30:00            2017-07-10 05:37:00   \n",
       "75%              2017-10-08 11:18:45            2017-10-08 11:19:45   \n",
       "max              2017-12-31 23:55:00            2018-01-01 00:12:00   \n",
       "std                              NaN                            NaN   \n",
       "\n",
       "                DIA           MES           AÑO         Dia-I         Mes-I  \\\n",
       "count  68206.000000  68206.000000  68206.000000  68206.000000  68206.000000   \n",
       "mean      15.714790      6.622585   2017.000029     15.714321      6.622804   \n",
       "min        1.000000      1.000000   2017.000000      1.000000      1.000000   \n",
       "25%        8.000000      3.000000   2017.000000      8.000000      3.000000   \n",
       "50%       16.000000      7.000000   2017.000000     16.000000      7.000000   \n",
       "75%       23.000000     10.000000   2017.000000     23.000000     10.000000   \n",
       "max       31.000000     12.000000   2018.000000     31.000000     12.000000   \n",
       "std        8.782886      3.523321      0.005415      8.783229      3.523376   \n",
       "\n",
       "         Año-I  \n",
       "count  68206.0  \n",
       "mean    2017.0  \n",
       "min     2017.0  \n",
       "25%     2017.0  \n",
       "50%     2017.0  \n",
       "75%     2017.0  \n",
       "max     2017.0  \n",
       "std        0.0  "
      ]
     },
     "execution_count": 12,
     "metadata": {},
     "output_type": "execute_result"
    }
   ],
   "source": [
    "df.describe(datetime_is_numeric= True)"
   ]
  },
  {
   "cell_type": "code",
   "execution_count": 13,
   "metadata": {},
   "outputs": [
    {
     "data": {
      "image/png": "[encoded data removed]",
      "text/plain": [
       "<Figure size 1080x360 with 8 Axes>"
      ]
     },
     "metadata": {
      "needs_background": "light"
     },
     "output_type": "display_data"
    }
   ],
   "source": [
    "df.hist(figsize=(15, 5), bins=50, xlabelsize=7, ylabelsize=7, layout = (2,4));"
   ]
  },
  {
   "cell_type": "markdown",
   "metadata": {},
   "source": [
    "Al analizar los datos categoricos vemos lo siguiente:\n",
    "\n",
    "Tenemos 750 codigos de vuelos únicos en el campo 'Vlo-I' y 866 en el campo 'Vlo-O'. ¿Los vuelos con cambios de codigo implicaran algun atraso? Crearemos esa variable más adelante para validar.\n",
    "\n",
    "Origene del vuelo: 'Ori-I', 'Ori-O', y SIGLAORI son todas únicas y hacen referencia a Santiago de forma consitente. Al momoento de modelar no consideraremso estas variable ya que no aportan información para discriminar.\n",
    "\n",
    "Destinos del vuelo: 'Des-I' (64 únicos), 'Des-O' (63 únicos), SIGLADES (62 únicos). Al igual que con número de vuelo observaremos si hay diferencias en los destinos programados/operados y si tienen implicancia con atrasos.\n",
    "\n",
    "Empresas: Emp-I(30 únicas), Emp-O(32 únicas) y OPERA (23 únicas). Veremos el porque de los distintos valores y si podemos quedarnos solo con 'Emp-I' al momento de entrenar el modelo.\n",
    "\n",
    "Día del vuelo: DIANOM, contiene los 7 días de la semana, y el mayoritario es el día viernes.\n",
    "\n",
    "Tipo de Vuelo: de los 68mil vuelos, 37mil son nacionales. \n",
    "\n",
    "**Aqui una nota sobre el problema: cuando estemos modelando si un vuelo tendrá atras o no, para evitar leak de información que no tendriamos a disposición en una caso real, no podemos considerar como variables predictoras las variables con '-O' ya que es información futura al momento de la programación de un vuelo.**\n"
   ]
  },
  {
   "cell_type": "code",
   "execution_count": 14,
   "metadata": {},
   "outputs": [
    {
     "data": {
      "text/html": [
       "<div>\n",
       "<style scoped>\n",
       "    .dataframe tbody tr th:only-of-type {\n",
       "        vertical-align: middle;\n",
       "    }\n",
       "\n",
       "    .dataframe tbody tr th {\n",
       "        vertical-align: top;\n",
       "    }\n",
       "\n",
       "    .dataframe thead th {\n",
       "        text-align: right;\n",
       "    }\n",
       "</style>\n",
       "<table border=\"1\" class=\"dataframe\">\n",
       "  <thead>\n",
       "    <tr style=\"text-align: right;\">\n",
       "      <th></th>\n",
       "      <th>count</th>\n",
       "      <th>unique</th>\n",
       "      <th>top</th>\n",
       "      <th>freq</th>\n",
       "    </tr>\n",
       "  </thead>\n",
       "  <tbody>\n",
       "    <tr>\n",
       "      <th>Vlo-I</th>\n",
       "      <td>68206</td>\n",
       "      <td>750</td>\n",
       "      <td>174</td>\n",
       "      <td>686</td>\n",
       "    </tr>\n",
       "    <tr>\n",
       "      <th>Ori-I</th>\n",
       "      <td>68206</td>\n",
       "      <td>1</td>\n",
       "      <td>SCEL</td>\n",
       "      <td>68206</td>\n",
       "    </tr>\n",
       "    <tr>\n",
       "      <th>Des-I</th>\n",
       "      <td>68206</td>\n",
       "      <td>64</td>\n",
       "      <td>SCFA</td>\n",
       "      <td>5787</td>\n",
       "    </tr>\n",
       "    <tr>\n",
       "      <th>Emp-I</th>\n",
       "      <td>68206</td>\n",
       "      <td>30</td>\n",
       "      <td>LAN</td>\n",
       "      <td>37611</td>\n",
       "    </tr>\n",
       "    <tr>\n",
       "      <th>Vlo-O</th>\n",
       "      <td>68206</td>\n",
       "      <td>866</td>\n",
       "      <td>174</td>\n",
       "      <td>649</td>\n",
       "    </tr>\n",
       "    <tr>\n",
       "      <th>Ori-O</th>\n",
       "      <td>68206</td>\n",
       "      <td>1</td>\n",
       "      <td>SCEL</td>\n",
       "      <td>68206</td>\n",
       "    </tr>\n",
       "    <tr>\n",
       "      <th>Des-O</th>\n",
       "      <td>68206</td>\n",
       "      <td>63</td>\n",
       "      <td>SCFA</td>\n",
       "      <td>5786</td>\n",
       "    </tr>\n",
       "    <tr>\n",
       "      <th>Emp-O</th>\n",
       "      <td>68206</td>\n",
       "      <td>32</td>\n",
       "      <td>LAN</td>\n",
       "      <td>20988</td>\n",
       "    </tr>\n",
       "    <tr>\n",
       "      <th>DIANOM</th>\n",
       "      <td>68206</td>\n",
       "      <td>7</td>\n",
       "      <td>Viernes</td>\n",
       "      <td>10292</td>\n",
       "    </tr>\n",
       "    <tr>\n",
       "      <th>TIPOVUELO</th>\n",
       "      <td>68206</td>\n",
       "      <td>2</td>\n",
       "      <td>N</td>\n",
       "      <td>36966</td>\n",
       "    </tr>\n",
       "    <tr>\n",
       "      <th>OPERA</th>\n",
       "      <td>68206</td>\n",
       "      <td>23</td>\n",
       "      <td>Grupo LATAM</td>\n",
       "      <td>40892</td>\n",
       "    </tr>\n",
       "    <tr>\n",
       "      <th>SIGLAORI</th>\n",
       "      <td>68206</td>\n",
       "      <td>1</td>\n",
       "      <td>Santiago</td>\n",
       "      <td>68206</td>\n",
       "    </tr>\n",
       "    <tr>\n",
       "      <th>SIGLADES</th>\n",
       "      <td>68206</td>\n",
       "      <td>62</td>\n",
       "      <td>Buenos Aires</td>\n",
       "      <td>6335</td>\n",
       "    </tr>\n",
       "    <tr>\n",
       "      <th>DiaNom-I</th>\n",
       "      <td>68206</td>\n",
       "      <td>7</td>\n",
       "      <td>Friday</td>\n",
       "      <td>10332</td>\n",
       "    </tr>\n",
       "  </tbody>\n",
       "</table>\n",
       "</div>"
      ],
      "text/plain": [
       "           count unique           top   freq\n",
       "Vlo-I      68206    750           174    686\n",
       "Ori-I      68206      1          SCEL  68206\n",
       "Des-I      68206     64          SCFA   5787\n",
       "Emp-I      68206     30           LAN  37611\n",
       "Vlo-O      68206    866           174    649\n",
       "Ori-O      68206      1          SCEL  68206\n",
       "Des-O      68206     63          SCFA   5786\n",
       "Emp-O      68206     32           LAN  20988\n",
       "DIANOM     68206      7       Viernes  10292\n",
       "TIPOVUELO  68206      2             N  36966\n",
       "OPERA      68206     23   Grupo LATAM  40892\n",
       "SIGLAORI   68206      1      Santiago  68206\n",
       "SIGLADES   68206     62  Buenos Aires   6335\n",
       "DiaNom-I   68206      7        Friday  10332"
      ]
     },
     "execution_count": 14,
     "metadata": {},
     "output_type": "execute_result"
    }
   ],
   "source": [
    "df.describe(include=['O']).transpose()\n"
   ]
  },
  {
   "cell_type": "markdown",
   "metadata": {},
   "source": [
    "A continuación exploraremos graficamente las  variables categoricas:"
   ]
  },
  {
   "cell_type": "markdown",
   "metadata": {},
   "source": [
    "Destinos: Los destinos más frecuentes son Buenos Aires, Antofagasta, Lima, Calama y Puerto Montt. "
   ]
  },
  {
   "cell_type": "code",
   "execution_count": 15,
   "metadata": {},
   "outputs": [
    {
     "data": {
      "image/png": "[encoded data removed]",
      "text/plain": [
       "<Figure size 900x360 with 1 Axes>"
      ]
     },
     "metadata": {
      "needs_background": "light"
     },
     "output_type": "display_data"
    }
   ],
   "source": [
    "sns.catplot(data=df, \n",
    "            x='SIGLADES', \n",
    "            kind=\"count\", \n",
    "            order = df['SIGLADES'].value_counts().index, \n",
    "            height=5, aspect=2.5)\n",
    "plt.xticks(rotation=90, size = 8)\n",
    "plt.show()"
   ]
  },
  {
   "cell_type": "markdown",
   "metadata": {},
   "source": [
    "Un alternativa a explorar sería obtener la geolocalización de los destinos y calcular la distancia del vuelo.\n",
    "\n",
    "Como hipotesis, Un vuelo de alta distancia deberia mover muchos más pasajeros y probablemente exista más probabilidad de atraso.\n",
    "\n",
    "Una busqueda en google, nos muestra que en el siguiente sitio tenemos todos los aeropuertos con codigo y coordenadas:\n",
    "https://ourairports.com/data/"
   ]
  },
  {
   "cell_type": "code",
   "execution_count": 16,
   "metadata": {},
   "outputs": [],
   "source": [
    "aeropuertos = pd.read_csv('airports.csv')\n",
    "#correción de aeropuerto de Perú https://ourairports.com/airports/SPIM/\n",
    "aeropuertos['ident'] = np.where(aeropuertos['ident']=='SPIM', 'SPJC', aeropuertos['ident']) "
   ]
  },
  {
   "cell_type": "code",
   "execution_count": 17,
   "metadata": {},
   "outputs": [],
   "source": [
    "#Cruzamos la ubicacion de destino y origen\n",
    "df = df.merge(aeropuertos[['ident','latitude_deg','longitude_deg']],\n",
    "                         left_on='Des-I', right_on='ident', how='left')\n",
    "df = df.merge(aeropuertos[['ident','latitude_deg','longitude_deg']],\n",
    "                         left_on='Ori-I', right_on='ident', how='left')\n",
    "#renombramos campos\n",
    "df = df.rename(columns={'latitude_deg_x': 'latitud_des', 'longitude_deg_x': 'longitude_des',\n",
    "                        'latitude_deg_y': 'latitud_ori', 'longitude_deg_y': 'longitude_ori'})\n",
    "df = df.drop(['ident_x','ident_y'], axis = 1)"
   ]
  },
  {
   "cell_type": "code",
   "execution_count": 18,
   "metadata": {},
   "outputs": [],
   "source": [
    "#Función para calcular distancia\n",
    "#https://stackoverflow.com/questions/40452759/pandas-latitude-longitude-to-distance-between-successive-rows\n",
    "def haversine(lat1, lon1, lat2, lon2, to_radians=True, earth_radius=6371):\n",
    "    if to_radians:\n",
    "        lat1, lon1, lat2, lon2 = np.radians([lat1, lon1, lat2, lon2])\n",
    "\n",
    "    a = np.sin((lat2-lat1)/2.0)**2 + \\\n",
    "        np.cos(lat1) * np.cos(lat2) * np.sin((lon2-lon1)/2.0)**2\n",
    "\n",
    "    return earth_radius * 2 * np.arcsin(np.sqrt(a))"
   ]
  },
  {
   "cell_type": "code",
   "execution_count": 19,
   "metadata": {},
   "outputs": [],
   "source": [
    "df['distancia'] = haversine(df['latitud_des'],df['longitude_des'],df['latitud_ori'],df['longitude_ori']).round().astype(int)"
   ]
  },
  {
   "cell_type": "markdown",
   "metadata": {},
   "source": [
    "La mayoría de los vuelos tienen una distancia de menos de 1.000km"
   ]
  },
  {
   "cell_type": "code",
   "execution_count": 20,
   "metadata": {},
   "outputs": [
    {
     "data": {
      "image/png": "[encoded data removed]",
      "text/plain": [
       "<Figure size 432x288 with 1 Axes>"
      ]
     },
     "metadata": {
      "needs_background": "light"
     },
     "output_type": "display_data"
    }
   ],
   "source": [
    "df.distancia.hist()\n",
    "plt.show()"
   ]
  },
  {
   "cell_type": "markdown",
   "metadata": {},
   "source": [
    "En vuelos nacionales tenemos 4 empresas, mientras que en Internacionales hay una alta cardinalidad."
   ]
  },
  {
   "cell_type": "code",
   "execution_count": 21,
   "metadata": {},
   "outputs": [
    {
     "data": {
      "image/png": "[encoded data removed]",
      "text/plain": [
       "<Figure size 900x720 with 2 Axes>"
      ]
     },
     "metadata": {
      "needs_background": "light"
     },
     "output_type": "display_data"
    }
   ],
   "source": [
    "sns.catplot(data=df, \n",
    "            x='Emp-I', \n",
    "            kind=\"count\", \n",
    "            row='TIPOVUELO',\n",
    "            order = df['Emp-I'].value_counts().index, \n",
    "            height=5, aspect=2.5)\n",
    "plt.xticks(rotation=70)\n",
    "#plt.xlabel('Vlo-I',fontsize=1)\n",
    "plt.tight_layout()"
   ]
  },
  {
   "cell_type": "markdown",
   "metadata": {},
   "source": [
    "Viernes, Jueves y Lunes son los días con más vuelos. Sábado es el día menos cargado."
   ]
  },
  {
   "cell_type": "code",
   "execution_count": 22,
   "metadata": {},
   "outputs": [
    {
     "data": {
      "image/png": "[encoded data removed]",
      "text/plain": [
       "<Figure size 900x360 with 1 Axes>"
      ]
     },
     "metadata": {
      "needs_background": "light"
     },
     "output_type": "display_data"
    }
   ],
   "source": [
    "sns.catplot(data=df, \n",
    "            x='DiaNom-I', \n",
    "            kind=\"count\",\n",
    "            height=5, aspect=2.5)\n",
    "plt.xticks(rotation=70)\n",
    "#plt.xlabel('Vlo-I',fontsize=1)\n",
    "plt.tight_layout()"
   ]
  },
  {
   "cell_type": "markdown",
   "metadata": {},
   "source": [
    "##### 2. Genera las columnas adicionales y luego expórtelas en un archivo 'synthetic_features.csv'"
   ]
  },
  {
   "cell_type": "code",
   "execution_count": 23,
   "metadata": {},
   "outputs": [],
   "source": [
    "#funcion que calcula temporada alta, requiere fechas en formato datetime.\n",
    "def temporada_alta(fecha):\n",
    "    fecha = datetime.date(year=1900, month=fecha.month, day=fecha.day)\n",
    "\n",
    "    if   datetime.date(1900, 12, 15) <= fecha <= datetime.date(1900, 3, 3) or \\\n",
    "         datetime.date(1900, 7, 15) <= fecha <= datetime.date(1900, 7, 31) or \\\n",
    "         datetime.date(1900, 9, 11) <= fecha <= datetime.date(1900, 9, 30):\n",
    "\n",
    "        return 1\n",
    "    else:\n",
    "        return 0       "
   ]
  },
  {
   "cell_type": "code",
   "execution_count": 24,
   "metadata": {},
   "outputs": [],
   "source": [
    "#temporada_alta : 1 si Fecha-I está entre 15-Dic y 3-Mar, o 15-Jul y 31-Jul, o 11-Sep y 30-Sep, 0 si no.\n",
    "df['temporada_alta'] = df.apply(lambda x: temporada_alta(x['Fecha-I']), axis=1)"
   ]
  },
  {
   "cell_type": "code",
   "execution_count": 25,
   "metadata": {},
   "outputs": [
    {
     "data": {
      "image/png": "[encoded data removed]",
      "text/plain": [
       "<Figure size 288x288 with 1 Axes>"
      ]
     },
     "metadata": {
      "needs_background": "light"
     },
     "output_type": "display_data"
    }
   ],
   "source": [
    "sns.catplot(data=df, \n",
    "            x='temporada_alta', \n",
    "            kind=\"count\",\n",
    "            height=4, aspect=1)\n",
    "#plt.xticks(rotation=70)\n",
    "#plt.xlabel('Vlo-I',fontsize=1)\n",
    "plt.tight_layout()"
   ]
  },
  {
   "cell_type": "code",
   "execution_count": 26,
   "metadata": {},
   "outputs": [],
   "source": [
    "#función para calcular diferencia en minutos, requiere fechas en formato datetime.\n",
    "def diferencia_minutos(fecha_fin, fecha_ini):\n",
    "    return int(round((fecha_fin - fecha_ini).total_seconds() / 60.0))"
   ]
  },
  {
   "cell_type": "code",
   "execution_count": 27,
   "metadata": {},
   "outputs": [],
   "source": [
    "#dif_min : diferencia en minutos entre Fecha-O y Fecha-I .\n",
    "df['dif_min'] = df.apply(lambda x: diferencia_minutos(x['Fecha-O'],x['Fecha-I']), axis=1)"
   ]
  },
  {
   "cell_type": "code",
   "execution_count": 28,
   "metadata": {},
   "outputs": [
    {
     "data": {
      "image/png": "[encoded data removed]",
      "text/plain": [
       "<Figure size 432x288 with 1 Axes>"
      ]
     },
     "metadata": {
      "needs_background": "light"
     },
     "output_type": "display_data"
    }
   ],
   "source": [
    "sns.histplot(data=df, \n",
    "            x='dif_min',\n",
    "            binwidth=5)\n",
    "#plt.xticks(rotation=70)\n",
    "#plt.xlabel('Vlo-I',fontsize=1)\n",
    "plt.tight_layout()"
   ]
  },
  {
   "cell_type": "code",
   "execution_count": 29,
   "metadata": {},
   "outputs": [],
   "source": [
    "#atraso_15 : 1 si dif_min > 15, 0 si no.\n",
    "df['atraso_15'] = np.where(df['dif_min'] > 15, 1, 0)"
   ]
  },
  {
   "cell_type": "code",
   "execution_count": 30,
   "metadata": {},
   "outputs": [
    {
     "data": {
      "image/png": "[encoded data removed]",
      "text/plain": [
       "<Figure size 288x288 with 1 Axes>"
      ]
     },
     "metadata": {
      "needs_background": "light"
     },
     "output_type": "display_data"
    }
   ],
   "source": [
    "sns.catplot(data=df, \n",
    "            x='atraso_15', \n",
    "            kind=\"count\",\n",
    "            height=4, aspect=1)\n",
    "#plt.xticks(rotation=70)\n",
    "#plt.xlabel('Vlo-I',fontsize=1)\n",
    "plt.tight_layout()"
   ]
  },
  {
   "cell_type": "code",
   "execution_count": 31,
   "metadata": {},
   "outputs": [],
   "source": [
    "#funcion que calcula el periodo del día, requiere fechas en formato datetime.\n",
    "def periodo_dia(hora):\n",
    "    hora = datetime.time(hour = hora.hour, minute = hora.minute)\n",
    "    if datetime.time(5,0) <= hora <= datetime.time(11,56):\n",
    "        return 'mañana'\n",
    "    elif datetime.time(12,0) <= hora <= datetime.time(18,59):\n",
    "        return 'tarde'\n",
    "    else:\n",
    "        return 'noche'"
   ]
  },
  {
   "cell_type": "code",
   "execution_count": 32,
   "metadata": {},
   "outputs": [],
   "source": [
    "#periodo_dia : mañana (entre 5:00 y 11:59), tarde (entre 12:00 y 18:59) y noche (entre 19:00 y 4:59), en base a Fecha-I .\n",
    "df['periodo_dia'] = df.apply(lambda x: periodo_dia(x['Fecha-I']), axis=1)"
   ]
  },
  {
   "cell_type": "code",
   "execution_count": 33,
   "metadata": {},
   "outputs": [
    {
     "data": {
      "image/png": "[encoded data removed]",
      "text/plain": [
       "<Figure size 288x288 with 1 Axes>"
      ]
     },
     "metadata": {
      "needs_background": "light"
     },
     "output_type": "display_data"
    }
   ],
   "source": [
    "sns.catplot(data=df, \n",
    "            x='periodo_dia', \n",
    "            kind=\"count\",\n",
    "            height=4, aspect=1)\n",
    "#plt.xticks(rotation=70)\n",
    "#plt.xlabel('Vlo-I',fontsize=1)\n",
    "plt.tight_layout()"
   ]
  },
  {
   "cell_type": "code",
   "execution_count": 34,
   "metadata": {},
   "outputs": [],
   "source": [
    "#Guardamos variables creadas en archivo synthetic_features.csv \n",
    "df[['temporada_alta','dif_min','atraso_15','periodo_dia']] \\\n",
    "    .to_csv('synthetic_features.csv', index_label= False)"
   ]
  },
  {
   "cell_type": "markdown",
   "metadata": {},
   "source": [
    "#### 3. ¿Cómo se compone la tasa de atraso por destino, aerolínea, mes del año, día de la semana, temporada, tipo de vuelo?\n",
    "#### ¿Qué variables esperarías que más influyeran en predecir atrasos?"
   ]
  },
  {
   "cell_type": "markdown",
   "metadata": {},
   "source": [
    "Al analizar los campos 'Des-I' y 'SIGLADES', notamos como hay codigos de destino duplicados en ciudades diferentes (Ej: Temuco y Punta Arenas ambos tienen asignado SCTE).\n",
    "Para nuestros analisis y posterior modelado nos guiaremos solamente por el campo 'Des-I'."
   ]
  },
  {
   "cell_type": "code",
   "execution_count": 35,
   "metadata": {},
   "outputs": [
    {
     "data": {
      "text/html": [
       "<div>\n",
       "<style scoped>\n",
       "    .dataframe tbody tr th:only-of-type {\n",
       "        vertical-align: middle;\n",
       "    }\n",
       "\n",
       "    .dataframe tbody tr th {\n",
       "        vertical-align: top;\n",
       "    }\n",
       "\n",
       "    .dataframe thead th {\n",
       "        text-align: right;\n",
       "    }\n",
       "</style>\n",
       "<table border=\"1\" class=\"dataframe\">\n",
       "  <thead>\n",
       "    <tr style=\"text-align: right;\">\n",
       "      <th></th>\n",
       "      <th>Des-I</th>\n",
       "      <th>SIGLADES</th>\n",
       "      <th>Vlo-I</th>\n",
       "    </tr>\n",
       "  </thead>\n",
       "  <tbody>\n",
       "    <tr>\n",
       "      <th>6</th>\n",
       "      <td>KIAH</td>\n",
       "      <td>Washington</td>\n",
       "      <td>1</td>\n",
       "    </tr>\n",
       "    <tr>\n",
       "      <th>8</th>\n",
       "      <td>KJFK</td>\n",
       "      <td>Nueva York</td>\n",
       "      <td>382</td>\n",
       "    </tr>\n",
       "    <tr>\n",
       "      <th>36</th>\n",
       "      <td>SBGR</td>\n",
       "      <td>Sao Paulo</td>\n",
       "      <td>3569</td>\n",
       "    </tr>\n",
       "    <tr>\n",
       "      <th>40</th>\n",
       "      <td>SCBA</td>\n",
       "      <td>Puerto Montt</td>\n",
       "      <td>4</td>\n",
       "    </tr>\n",
       "    <tr>\n",
       "      <th>43</th>\n",
       "      <td>SCCI</td>\n",
       "      <td>Punta Arenas</td>\n",
       "      <td>2104</td>\n",
       "    </tr>\n",
       "    <tr>\n",
       "      <th>46</th>\n",
       "      <td>SCFA</td>\n",
       "      <td>Calama</td>\n",
       "      <td>1</td>\n",
       "    </tr>\n",
       "    <tr>\n",
       "      <th>48</th>\n",
       "      <td>SCIE</td>\n",
       "      <td>Puerto Montt</td>\n",
       "      <td>1</td>\n",
       "    </tr>\n",
       "    <tr>\n",
       "      <th>49</th>\n",
       "      <td>SCIE</td>\n",
       "      <td>Temuco</td>\n",
       "      <td>1</td>\n",
       "    </tr>\n",
       "    <tr>\n",
       "      <th>57</th>\n",
       "      <td>SCTE</td>\n",
       "      <td>Punta Arenas</td>\n",
       "      <td>1</td>\n",
       "    </tr>\n",
       "    <tr>\n",
       "      <th>58</th>\n",
       "      <td>SCTE</td>\n",
       "      <td>Temuco</td>\n",
       "      <td>5</td>\n",
       "    </tr>\n",
       "    <tr>\n",
       "      <th>61</th>\n",
       "      <td>SEGU</td>\n",
       "      <td>Guayaquil</td>\n",
       "      <td>422</td>\n",
       "    </tr>\n",
       "    <tr>\n",
       "      <th>75</th>\n",
       "      <td>YSSY</td>\n",
       "      <td>Sydney</td>\n",
       "      <td>194</td>\n",
       "    </tr>\n",
       "  </tbody>\n",
       "</table>\n",
       "</div>"
      ],
      "text/plain": [
       "   Des-I      SIGLADES  Vlo-I\n",
       "6   KIAH    Washington      1\n",
       "8   KJFK    Nueva York    382\n",
       "36  SBGR     Sao Paulo   3569\n",
       "40  SCBA  Puerto Montt      4\n",
       "43  SCCI  Punta Arenas   2104\n",
       "46  SCFA        Calama      1\n",
       "48  SCIE  Puerto Montt      1\n",
       "49  SCIE        Temuco      1\n",
       "57  SCTE  Punta Arenas      1\n",
       "58  SCTE        Temuco      5\n",
       "61  SEGU     Guayaquil    422\n",
       "75  YSSY        Sydney    194"
      ]
     },
     "execution_count": 35,
     "metadata": {},
     "output_type": "execute_result"
    }
   ],
   "source": [
    "destinos = df.groupby(['Des-I','SIGLADES'], as_index=False)['Vlo-I'].count()\n",
    "destinos_duplicados = destinos[destinos['Des-I'].duplicated()]\n",
    "destinos_duplicados.sort_values('Des-I')"
   ]
  },
  {
   "cell_type": "markdown",
   "metadata": {},
   "source": [
    "\n",
    "Con las aerolinias sucede algo similar, por ejemplo, 'Grupo LATAM' opera multiples aerolineas, por lo tanto, usaremos el campo 'Emp-I' en nuestros analisis y así aseguramos trabajar a nivel de aerolinea y no de grupos."
   ]
  },
  {
   "cell_type": "code",
   "execution_count": 36,
   "metadata": {},
   "outputs": [
    {
     "data": {
      "text/html": [
       "<div>\n",
       "<style scoped>\n",
       "    .dataframe tbody tr th:only-of-type {\n",
       "        vertical-align: middle;\n",
       "    }\n",
       "\n",
       "    .dataframe tbody tr th {\n",
       "        vertical-align: top;\n",
       "    }\n",
       "\n",
       "    .dataframe thead th {\n",
       "        text-align: right;\n",
       "    }\n",
       "</style>\n",
       "<table border=\"1\" class=\"dataframe\">\n",
       "  <thead>\n",
       "    <tr style=\"text-align: right;\">\n",
       "      <th></th>\n",
       "      <th>Emp-I</th>\n",
       "      <th>OPERA</th>\n",
       "      <th>Vlo-I</th>\n",
       "    </tr>\n",
       "  </thead>\n",
       "  <tbody>\n",
       "    <tr>\n",
       "      <th>17</th>\n",
       "      <td>LAN</td>\n",
       "      <td>Grupo LATAM</td>\n",
       "      <td>37611</td>\n",
       "    </tr>\n",
       "    <tr>\n",
       "      <th>18</th>\n",
       "      <td>LAP</td>\n",
       "      <td>Grupo LATAM</td>\n",
       "      <td>216</td>\n",
       "    </tr>\n",
       "    <tr>\n",
       "      <th>20</th>\n",
       "      <td>LNE</td>\n",
       "      <td>Grupo LATAM</td>\n",
       "      <td>1</td>\n",
       "    </tr>\n",
       "    <tr>\n",
       "      <th>21</th>\n",
       "      <td>LPE</td>\n",
       "      <td>Grupo LATAM</td>\n",
       "      <td>4</td>\n",
       "    </tr>\n",
       "    <tr>\n",
       "      <th>23</th>\n",
       "      <td>LXP</td>\n",
       "      <td>Grupo LATAM</td>\n",
       "      <td>9</td>\n",
       "    </tr>\n",
       "    <tr>\n",
       "      <th>28</th>\n",
       "      <td>TAM</td>\n",
       "      <td>Grupo LATAM</td>\n",
       "      <td>3049</td>\n",
       "    </tr>\n",
       "    <tr>\n",
       "      <th>19</th>\n",
       "      <td>LAW</td>\n",
       "      <td>Latin American Wings</td>\n",
       "      <td>1574</td>\n",
       "    </tr>\n",
       "  </tbody>\n",
       "</table>\n",
       "</div>"
      ],
      "text/plain": [
       "   Emp-I                 OPERA  Vlo-I\n",
       "17   LAN           Grupo LATAM  37611\n",
       "18   LAP           Grupo LATAM    216\n",
       "20   LNE           Grupo LATAM      1\n",
       "21   LPE           Grupo LATAM      4\n",
       "23   LXP           Grupo LATAM      9\n",
       "28   TAM           Grupo LATAM   3049\n",
       "19   LAW  Latin American Wings   1574"
      ]
     },
     "execution_count": 36,
     "metadata": {},
     "output_type": "execute_result"
    }
   ],
   "source": [
    "aerolineas = df.groupby(['Emp-I','OPERA'], as_index=False)['Vlo-I'].count()\n",
    "aerolineas_duplicados = aerolineas[aerolineas['OPERA'].duplicated()]\n",
    "aerolineas_duplicados.sort_values('OPERA')"
   ]
  },
  {
   "cell_type": "markdown",
   "metadata": {},
   "source": [
    "**Destinos:** Sobre los destinos, la media es de un 25% de vuelos con atraso con un dsipersión de un 23%. \n",
    "Salvo algunos casos puntuales que solo tienen un vuelo, hay un grupo importante de destinos que tiene un ratio de atrasos sobre el 30%."
   ]
  },
  {
   "cell_type": "code",
   "execution_count": 37,
   "metadata": {},
   "outputs": [],
   "source": [
    "atraso_destino = df.groupby(['Des-I'], as_index=False)['atraso_15'] \\\n",
    "    .agg([\"sum\", \"count\"]).reset_index() \\\n",
    "    .assign(ratio = lambda x: x['sum'] / x['count']) \\\n",
    "    .sort_values('ratio', ascending= False)"
   ]
  },
  {
   "cell_type": "code",
   "execution_count": 38,
   "metadata": {},
   "outputs": [
    {
     "data": {
      "text/html": [
       "<div>\n",
       "<style scoped>\n",
       "    .dataframe tbody tr th:only-of-type {\n",
       "        vertical-align: middle;\n",
       "    }\n",
       "\n",
       "    .dataframe tbody tr th {\n",
       "        vertical-align: top;\n",
       "    }\n",
       "\n",
       "    .dataframe thead th {\n",
       "        text-align: right;\n",
       "    }\n",
       "</style>\n",
       "<table border=\"1\" class=\"dataframe\">\n",
       "  <thead>\n",
       "    <tr style=\"text-align: right;\">\n",
       "      <th></th>\n",
       "      <th>Des-I</th>\n",
       "      <th>sum</th>\n",
       "      <th>count</th>\n",
       "      <th>ratio</th>\n",
       "    </tr>\n",
       "  </thead>\n",
       "  <tbody>\n",
       "    <tr>\n",
       "      <th>2</th>\n",
       "      <td>EGYP</td>\n",
       "      <td>1</td>\n",
       "      <td>1</td>\n",
       "      <td>1.000000</td>\n",
       "    </tr>\n",
       "    <tr>\n",
       "      <th>55</th>\n",
       "      <td>SLCB</td>\n",
       "      <td>1</td>\n",
       "      <td>1</td>\n",
       "      <td>1.000000</td>\n",
       "    </tr>\n",
       "    <tr>\n",
       "      <th>52</th>\n",
       "      <td>SEQU</td>\n",
       "      <td>1</td>\n",
       "      <td>1</td>\n",
       "      <td>1.000000</td>\n",
       "    </tr>\n",
       "    <tr>\n",
       "      <th>51</th>\n",
       "      <td>SEQM</td>\n",
       "      <td>1</td>\n",
       "      <td>1</td>\n",
       "      <td>1.000000</td>\n",
       "    </tr>\n",
       "    <tr>\n",
       "      <th>26</th>\n",
       "      <td>SAWH</td>\n",
       "      <td>4</td>\n",
       "      <td>6</td>\n",
       "      <td>0.666667</td>\n",
       "    </tr>\n",
       "    <tr>\n",
       "      <th>63</th>\n",
       "      <td>YSSY</td>\n",
       "      <td>113</td>\n",
       "      <td>195</td>\n",
       "      <td>0.579487</td>\n",
       "    </tr>\n",
       "    <tr>\n",
       "      <th>62</th>\n",
       "      <td>YMML</td>\n",
       "      <td>21</td>\n",
       "      <td>38</td>\n",
       "      <td>0.552632</td>\n",
       "    </tr>\n",
       "    <tr>\n",
       "      <th>28</th>\n",
       "      <td>SAZS</td>\n",
       "      <td>1</td>\n",
       "      <td>2</td>\n",
       "      <td>0.500000</td>\n",
       "    </tr>\n",
       "    <tr>\n",
       "      <th>18</th>\n",
       "      <td>SAAR</td>\n",
       "      <td>54</td>\n",
       "      <td>136</td>\n",
       "      <td>0.397059</td>\n",
       "    </tr>\n",
       "    <tr>\n",
       "      <th>17</th>\n",
       "      <td>NZAA</td>\n",
       "      <td>135</td>\n",
       "      <td>361</td>\n",
       "      <td>0.373961</td>\n",
       "    </tr>\n",
       "  </tbody>\n",
       "</table>\n",
       "</div>"
      ],
      "text/plain": [
       "   Des-I  sum  count     ratio\n",
       "2   EGYP    1      1  1.000000\n",
       "55  SLCB    1      1  1.000000\n",
       "52  SEQU    1      1  1.000000\n",
       "51  SEQM    1      1  1.000000\n",
       "26  SAWH    4      6  0.666667\n",
       "63  YSSY  113    195  0.579487\n",
       "62  YMML   21     38  0.552632\n",
       "28  SAZS    1      2  0.500000\n",
       "18  SAAR   54    136  0.397059\n",
       "17  NZAA  135    361  0.373961"
      ]
     },
     "execution_count": 38,
     "metadata": {},
     "output_type": "execute_result"
    }
   ],
   "source": [
    "atraso_destino.head(10)"
   ]
  },
  {
   "cell_type": "code",
   "execution_count": 39,
   "metadata": {},
   "outputs": [
    {
     "data": {
      "text/html": [
       "<div>\n",
       "<style scoped>\n",
       "    .dataframe tbody tr th:only-of-type {\n",
       "        vertical-align: middle;\n",
       "    }\n",
       "\n",
       "    .dataframe tbody tr th {\n",
       "        vertical-align: top;\n",
       "    }\n",
       "\n",
       "    .dataframe thead th {\n",
       "        text-align: right;\n",
       "    }\n",
       "</style>\n",
       "<table border=\"1\" class=\"dataframe\">\n",
       "  <thead>\n",
       "    <tr style=\"text-align: right;\">\n",
       "      <th></th>\n",
       "      <th>sum</th>\n",
       "      <th>count</th>\n",
       "      <th>ratio</th>\n",
       "    </tr>\n",
       "  </thead>\n",
       "  <tbody>\n",
       "    <tr>\n",
       "      <th>count</th>\n",
       "      <td>64.00000</td>\n",
       "      <td>64.000000</td>\n",
       "      <td>64.000000</td>\n",
       "    </tr>\n",
       "    <tr>\n",
       "      <th>mean</th>\n",
       "      <td>197.09375</td>\n",
       "      <td>1065.718750</td>\n",
       "      <td>0.253194</td>\n",
       "    </tr>\n",
       "    <tr>\n",
       "      <th>std</th>\n",
       "      <td>281.23479</td>\n",
       "      <td>1496.220237</td>\n",
       "      <td>0.234241</td>\n",
       "    </tr>\n",
       "    <tr>\n",
       "      <th>min</th>\n",
       "      <td>0.00000</td>\n",
       "      <td>1.000000</td>\n",
       "      <td>0.000000</td>\n",
       "    </tr>\n",
       "    <tr>\n",
       "      <th>25%</th>\n",
       "      <td>11.50000</td>\n",
       "      <td>50.000000</td>\n",
       "      <td>0.135833</td>\n",
       "    </tr>\n",
       "    <tr>\n",
       "      <th>50%</th>\n",
       "      <td>60.00000</td>\n",
       "      <td>346.000000</td>\n",
       "      <td>0.190316</td>\n",
       "    </tr>\n",
       "    <tr>\n",
       "      <th>75%</th>\n",
       "      <td>312.00000</td>\n",
       "      <td>1609.250000</td>\n",
       "      <td>0.269350</td>\n",
       "    </tr>\n",
       "    <tr>\n",
       "      <th>max</th>\n",
       "      <td>1214.00000</td>\n",
       "      <td>5787.000000</td>\n",
       "      <td>1.000000</td>\n",
       "    </tr>\n",
       "  </tbody>\n",
       "</table>\n",
       "</div>"
      ],
      "text/plain": [
       "              sum        count      ratio\n",
       "count    64.00000    64.000000  64.000000\n",
       "mean    197.09375  1065.718750   0.253194\n",
       "std     281.23479  1496.220237   0.234241\n",
       "min       0.00000     1.000000   0.000000\n",
       "25%      11.50000    50.000000   0.135833\n",
       "50%      60.00000   346.000000   0.190316\n",
       "75%     312.00000  1609.250000   0.269350\n",
       "max    1214.00000  5787.000000   1.000000"
      ]
     },
     "execution_count": 39,
     "metadata": {},
     "output_type": "execute_result"
    }
   ],
   "source": [
    "atraso_destino.describe()"
   ]
  },
  {
   "cell_type": "code",
   "execution_count": 40,
   "metadata": {},
   "outputs": [
    {
     "data": {
      "image/png": "[encoded data removed]",
      "text/plain": [
       "<Figure size 900x360 with 1 Axes>"
      ]
     },
     "metadata": {
      "needs_background": "light"
     },
     "output_type": "display_data"
    }
   ],
   "source": [
    "sns.catplot(data=atraso_destino, \n",
    "            x='Des-I', \n",
    "            y ='ratio',\n",
    "            kind=\"bar\",\n",
    "            height=5, aspect=2.5)\n",
    "plt.xticks(rotation=70)\n",
    "plt.tight_layout()"
   ]
  },
  {
   "cell_type": "markdown",
   "metadata": {},
   "source": [
    "**Aerolineas:** Se observa una distribución a los destinos. un 29% de atraso promedio con una dispersión de un 27%."
   ]
  },
  {
   "cell_type": "code",
   "execution_count": 43,
   "metadata": {},
   "outputs": [],
   "source": [
    "atraso_aerolinea = df.groupby(['Emp-I'], as_index=False)['atraso_15'] \\\n",
    "    .agg([\"sum\", \"count\"]).reset_index() \\\n",
    "    .assign(ratio = lambda x: x['sum'] / x['count']) \\\n",
    "    .sort_values('ratio', ascending= False)"
   ]
  },
  {
   "cell_type": "code",
   "execution_count": 44,
   "metadata": {},
   "outputs": [
    {
     "data": {
      "text/html": [
       "<div>\n",
       "<style scoped>\n",
       "    .dataframe tbody tr th:only-of-type {\n",
       "        vertical-align: middle;\n",
       "    }\n",
       "\n",
       "    .dataframe tbody tr th {\n",
       "        vertical-align: top;\n",
       "    }\n",
       "\n",
       "    .dataframe thead th {\n",
       "        text-align: right;\n",
       "    }\n",
       "</style>\n",
       "<table border=\"1\" class=\"dataframe\">\n",
       "  <thead>\n",
       "    <tr style=\"text-align: right;\">\n",
       "      <th></th>\n",
       "      <th>Emp-I</th>\n",
       "      <th>sum</th>\n",
       "      <th>count</th>\n",
       "      <th>ratio</th>\n",
       "    </tr>\n",
       "  </thead>\n",
       "  <tbody>\n",
       "    <tr>\n",
       "      <th>20</th>\n",
       "      <td>LNE</td>\n",
       "      <td>1</td>\n",
       "      <td>1</td>\n",
       "      <td>1.000000</td>\n",
       "    </tr>\n",
       "    <tr>\n",
       "      <th>11</th>\n",
       "      <td>DSM</td>\n",
       "      <td>2</td>\n",
       "      <td>2</td>\n",
       "      <td>1.000000</td>\n",
       "    </tr>\n",
       "    <tr>\n",
       "      <th>23</th>\n",
       "      <td>LXP</td>\n",
       "      <td>7</td>\n",
       "      <td>9</td>\n",
       "      <td>0.777778</td>\n",
       "    </tr>\n",
       "    <tr>\n",
       "      <th>25</th>\n",
       "      <td>PUE</td>\n",
       "      <td>30</td>\n",
       "      <td>49</td>\n",
       "      <td>0.612245</td>\n",
       "    </tr>\n",
       "    <tr>\n",
       "      <th>26</th>\n",
       "      <td>QFU</td>\n",
       "      <td>113</td>\n",
       "      <td>195</td>\n",
       "      <td>0.579487</td>\n",
       "    </tr>\n",
       "    <tr>\n",
       "      <th>21</th>\n",
       "      <td>LPE</td>\n",
       "      <td>2</td>\n",
       "      <td>4</td>\n",
       "      <td>0.500000</td>\n",
       "    </tr>\n",
       "    <tr>\n",
       "      <th>1</th>\n",
       "      <td>ACA</td>\n",
       "      <td>258</td>\n",
       "      <td>565</td>\n",
       "      <td>0.456637</td>\n",
       "    </tr>\n",
       "    <tr>\n",
       "      <th>19</th>\n",
       "      <td>LAW</td>\n",
       "      <td>642</td>\n",
       "      <td>1574</td>\n",
       "      <td>0.407878</td>\n",
       "    </tr>\n",
       "    <tr>\n",
       "      <th>15</th>\n",
       "      <td>JMR</td>\n",
       "      <td>39</td>\n",
       "      <td>100</td>\n",
       "      <td>0.390000</td>\n",
       "    </tr>\n",
       "    <tr>\n",
       "      <th>12</th>\n",
       "      <td>GLO</td>\n",
       "      <td>287</td>\n",
       "      <td>806</td>\n",
       "      <td>0.356079</td>\n",
       "    </tr>\n",
       "  </tbody>\n",
       "</table>\n",
       "</div>"
      ],
      "text/plain": [
       "   Emp-I  sum  count     ratio\n",
       "20   LNE    1      1  1.000000\n",
       "11   DSM    2      2  1.000000\n",
       "23   LXP    7      9  0.777778\n",
       "25   PUE   30     49  0.612245\n",
       "26   QFU  113    195  0.579487\n",
       "21   LPE    2      4  0.500000\n",
       "1    ACA  258    565  0.456637\n",
       "19   LAW  642   1574  0.407878\n",
       "15   JMR   39    100  0.390000\n",
       "12   GLO  287    806  0.356079"
      ]
     },
     "execution_count": 44,
     "metadata": {},
     "output_type": "execute_result"
    }
   ],
   "source": [
    "atraso_aerolinea.head(10)"
   ]
  },
  {
   "cell_type": "code",
   "execution_count": 45,
   "metadata": {},
   "outputs": [
    {
     "data": {
      "text/html": [
       "<div>\n",
       "<style scoped>\n",
       "    .dataframe tbody tr th:only-of-type {\n",
       "        vertical-align: middle;\n",
       "    }\n",
       "\n",
       "    .dataframe tbody tr th {\n",
       "        vertical-align: top;\n",
       "    }\n",
       "\n",
       "    .dataframe thead th {\n",
       "        text-align: right;\n",
       "    }\n",
       "</style>\n",
       "<table border=\"1\" class=\"dataframe\">\n",
       "  <thead>\n",
       "    <tr style=\"text-align: right;\">\n",
       "      <th></th>\n",
       "      <th>sum</th>\n",
       "      <th>count</th>\n",
       "      <th>ratio</th>\n",
       "    </tr>\n",
       "  </thead>\n",
       "  <tbody>\n",
       "    <tr>\n",
       "      <th>count</th>\n",
       "      <td>30.000000</td>\n",
       "      <td>30.000000</td>\n",
       "      <td>30.000000</td>\n",
       "    </tr>\n",
       "    <tr>\n",
       "      <th>mean</th>\n",
       "      <td>420.466667</td>\n",
       "      <td>2273.533333</td>\n",
       "      <td>0.297233</td>\n",
       "    </tr>\n",
       "    <tr>\n",
       "      <th>std</th>\n",
       "      <td>1236.680561</td>\n",
       "      <td>7163.120100</td>\n",
       "      <td>0.268218</td>\n",
       "    </tr>\n",
       "    <tr>\n",
       "      <th>min</th>\n",
       "      <td>1.000000</td>\n",
       "      <td>1.000000</td>\n",
       "      <td>0.028490</td>\n",
       "    </tr>\n",
       "    <tr>\n",
       "      <th>25%</th>\n",
       "      <td>18.000000</td>\n",
       "      <td>123.750000</td>\n",
       "      <td>0.102578</td>\n",
       "    </tr>\n",
       "    <tr>\n",
       "      <th>50%</th>\n",
       "      <td>37.500000</td>\n",
       "      <td>343.000000</td>\n",
       "      <td>0.190849</td>\n",
       "    </tr>\n",
       "    <tr>\n",
       "      <th>75%</th>\n",
       "      <td>242.500000</td>\n",
       "      <td>1022.750000</td>\n",
       "      <td>0.403409</td>\n",
       "    </tr>\n",
       "    <tr>\n",
       "      <th>max</th>\n",
       "      <td>6453.000000</td>\n",
       "      <td>37611.000000</td>\n",
       "      <td>1.000000</td>\n",
       "    </tr>\n",
       "  </tbody>\n",
       "</table>\n",
       "</div>"
      ],
      "text/plain": [
       "               sum         count      ratio\n",
       "count    30.000000     30.000000  30.000000\n",
       "mean    420.466667   2273.533333   0.297233\n",
       "std    1236.680561   7163.120100   0.268218\n",
       "min       1.000000      1.000000   0.028490\n",
       "25%      18.000000    123.750000   0.102578\n",
       "50%      37.500000    343.000000   0.190849\n",
       "75%     242.500000   1022.750000   0.403409\n",
       "max    6453.000000  37611.000000   1.000000"
      ]
     },
     "execution_count": 45,
     "metadata": {},
     "output_type": "execute_result"
    }
   ],
   "source": [
    "atraso_aerolinea.describe()"
   ]
  },
  {
   "cell_type": "code",
   "execution_count": 46,
   "metadata": {},
   "outputs": [
    {
     "data": {
      "image/png": "[encoded data removed]",
      "text/plain": [
       "<Figure size 900x360 with 1 Axes>"
      ]
     },
     "metadata": {
      "needs_background": "light"
     },
     "output_type": "display_data"
    }
   ],
   "source": [
    "sns.catplot(data=atraso_aerolinea, \n",
    "            x='Emp-I', \n",
    "            y ='ratio',\n",
    "            kind=\"bar\",\n",
    "            height=5, aspect=2.5)\n",
    "plt.xticks(rotation=70)\n",
    "plt.tight_layout()"
   ]
  },
  {
   "cell_type": "markdown",
   "metadata": {},
   "source": [
    "**Mes:** Se observa una mayor tasa de atrasos en Julio, Octubre y Diciembre. Una menos tasa de atraso entre Marzo y Abril."
   ]
  },
  {
   "cell_type": "code",
   "execution_count": 47,
   "metadata": {},
   "outputs": [],
   "source": [
    "atraso_mes = df.groupby(['Mes-I'], as_index=False)['atraso_15'] \\\n",
    "    .agg([\"sum\", \"count\"]).reset_index() \\\n",
    "    .assign(ratio = lambda x: x['sum'] / x['count']) \\\n",
    "    .sort_values('Mes-I', ascending= True)"
   ]
  },
  {
   "cell_type": "code",
   "execution_count": 48,
   "metadata": {},
   "outputs": [
    {
     "data": {
      "text/html": [
       "<div>\n",
       "<style scoped>\n",
       "    .dataframe tbody tr th:only-of-type {\n",
       "        vertical-align: middle;\n",
       "    }\n",
       "\n",
       "    .dataframe tbody tr th {\n",
       "        vertical-align: top;\n",
       "    }\n",
       "\n",
       "    .dataframe thead th {\n",
       "        text-align: right;\n",
       "    }\n",
       "</style>\n",
       "<table border=\"1\" class=\"dataframe\">\n",
       "  <thead>\n",
       "    <tr style=\"text-align: right;\">\n",
       "      <th></th>\n",
       "      <th>Mes-I</th>\n",
       "      <th>sum</th>\n",
       "      <th>count</th>\n",
       "      <th>ratio</th>\n",
       "    </tr>\n",
       "  </thead>\n",
       "  <tbody>\n",
       "    <tr>\n",
       "      <th>0</th>\n",
       "      <td>1</td>\n",
       "      <td>979</td>\n",
       "      <td>6108</td>\n",
       "      <td>0.160282</td>\n",
       "    </tr>\n",
       "    <tr>\n",
       "      <th>1</th>\n",
       "      <td>2</td>\n",
       "      <td>843</td>\n",
       "      <td>5561</td>\n",
       "      <td>0.151591</td>\n",
       "    </tr>\n",
       "    <tr>\n",
       "      <th>2</th>\n",
       "      <td>3</td>\n",
       "      <td>629</td>\n",
       "      <td>5480</td>\n",
       "      <td>0.114781</td>\n",
       "    </tr>\n",
       "    <tr>\n",
       "      <th>3</th>\n",
       "      <td>4</td>\n",
       "      <td>586</td>\n",
       "      <td>5021</td>\n",
       "      <td>0.116710</td>\n",
       "    </tr>\n",
       "    <tr>\n",
       "      <th>4</th>\n",
       "      <td>5</td>\n",
       "      <td>826</td>\n",
       "      <td>5239</td>\n",
       "      <td>0.157664</td>\n",
       "    </tr>\n",
       "    <tr>\n",
       "      <th>5</th>\n",
       "      <td>6</td>\n",
       "      <td>852</td>\n",
       "      <td>4982</td>\n",
       "      <td>0.171016</td>\n",
       "    </tr>\n",
       "    <tr>\n",
       "      <th>6</th>\n",
       "      <td>7</td>\n",
       "      <td>1758</td>\n",
       "      <td>5991</td>\n",
       "      <td>0.293440</td>\n",
       "    </tr>\n",
       "    <tr>\n",
       "      <th>7</th>\n",
       "      <td>8</td>\n",
       "      <td>996</td>\n",
       "      <td>5744</td>\n",
       "      <td>0.173398</td>\n",
       "    </tr>\n",
       "    <tr>\n",
       "      <th>8</th>\n",
       "      <td>9</td>\n",
       "      <td>967</td>\n",
       "      <td>5610</td>\n",
       "      <td>0.172371</td>\n",
       "    </tr>\n",
       "    <tr>\n",
       "      <th>9</th>\n",
       "      <td>10</td>\n",
       "      <td>1363</td>\n",
       "      <td>6032</td>\n",
       "      <td>0.225962</td>\n",
       "    </tr>\n",
       "    <tr>\n",
       "      <th>10</th>\n",
       "      <td>11</td>\n",
       "      <td>1200</td>\n",
       "      <td>6081</td>\n",
       "      <td>0.197336</td>\n",
       "    </tr>\n",
       "    <tr>\n",
       "      <th>11</th>\n",
       "      <td>12</td>\n",
       "      <td>1615</td>\n",
       "      <td>6357</td>\n",
       "      <td>0.254051</td>\n",
       "    </tr>\n",
       "  </tbody>\n",
       "</table>\n",
       "</div>"
      ],
      "text/plain": [
       "    Mes-I   sum  count     ratio\n",
       "0       1   979   6108  0.160282\n",
       "1       2   843   5561  0.151591\n",
       "2       3   629   5480  0.114781\n",
       "3       4   586   5021  0.116710\n",
       "4       5   826   5239  0.157664\n",
       "5       6   852   4982  0.171016\n",
       "6       7  1758   5991  0.293440\n",
       "7       8   996   5744  0.173398\n",
       "8       9   967   5610  0.172371\n",
       "9      10  1363   6032  0.225962\n",
       "10     11  1200   6081  0.197336\n",
       "11     12  1615   6357  0.254051"
      ]
     },
     "execution_count": 48,
     "metadata": {},
     "output_type": "execute_result"
    }
   ],
   "source": [
    "atraso_mes.head(12)"
   ]
  },
  {
   "cell_type": "code",
   "execution_count": 49,
   "metadata": {},
   "outputs": [
    {
     "data": {
      "text/html": [
       "<div>\n",
       "<style scoped>\n",
       "    .dataframe tbody tr th:only-of-type {\n",
       "        vertical-align: middle;\n",
       "    }\n",
       "\n",
       "    .dataframe tbody tr th {\n",
       "        vertical-align: top;\n",
       "    }\n",
       "\n",
       "    .dataframe thead th {\n",
       "        text-align: right;\n",
       "    }\n",
       "</style>\n",
       "<table border=\"1\" class=\"dataframe\">\n",
       "  <thead>\n",
       "    <tr style=\"text-align: right;\">\n",
       "      <th></th>\n",
       "      <th>Mes-I</th>\n",
       "      <th>sum</th>\n",
       "      <th>count</th>\n",
       "      <th>ratio</th>\n",
       "    </tr>\n",
       "  </thead>\n",
       "  <tbody>\n",
       "    <tr>\n",
       "      <th>count</th>\n",
       "      <td>12.000000</td>\n",
       "      <td>12.000000</td>\n",
       "      <td>12.000000</td>\n",
       "      <td>12.000000</td>\n",
       "    </tr>\n",
       "    <tr>\n",
       "      <th>mean</th>\n",
       "      <td>6.500000</td>\n",
       "      <td>1051.166667</td>\n",
       "      <td>5683.833333</td>\n",
       "      <td>0.182383</td>\n",
       "    </tr>\n",
       "    <tr>\n",
       "      <th>std</th>\n",
       "      <td>3.605551</td>\n",
       "      <td>366.872986</td>\n",
       "      <td>447.405213</td>\n",
       "      <td>0.052944</td>\n",
       "    </tr>\n",
       "    <tr>\n",
       "      <th>min</th>\n",
       "      <td>1.000000</td>\n",
       "      <td>586.000000</td>\n",
       "      <td>4982.000000</td>\n",
       "      <td>0.114781</td>\n",
       "    </tr>\n",
       "    <tr>\n",
       "      <th>25%</th>\n",
       "      <td>3.750000</td>\n",
       "      <td>838.750000</td>\n",
       "      <td>5419.750000</td>\n",
       "      <td>0.156146</td>\n",
       "    </tr>\n",
       "    <tr>\n",
       "      <th>50%</th>\n",
       "      <td>6.500000</td>\n",
       "      <td>973.000000</td>\n",
       "      <td>5677.000000</td>\n",
       "      <td>0.171693</td>\n",
       "    </tr>\n",
       "    <tr>\n",
       "      <th>75%</th>\n",
       "      <td>9.250000</td>\n",
       "      <td>1240.750000</td>\n",
       "      <td>6044.250000</td>\n",
       "      <td>0.204492</td>\n",
       "    </tr>\n",
       "    <tr>\n",
       "      <th>max</th>\n",
       "      <td>12.000000</td>\n",
       "      <td>1758.000000</td>\n",
       "      <td>6357.000000</td>\n",
       "      <td>0.293440</td>\n",
       "    </tr>\n",
       "  </tbody>\n",
       "</table>\n",
       "</div>"
      ],
      "text/plain": [
       "           Mes-I          sum        count      ratio\n",
       "count  12.000000    12.000000    12.000000  12.000000\n",
       "mean    6.500000  1051.166667  5683.833333   0.182383\n",
       "std     3.605551   366.872986   447.405213   0.052944\n",
       "min     1.000000   586.000000  4982.000000   0.114781\n",
       "25%     3.750000   838.750000  5419.750000   0.156146\n",
       "50%     6.500000   973.000000  5677.000000   0.171693\n",
       "75%     9.250000  1240.750000  6044.250000   0.204492\n",
       "max    12.000000  1758.000000  6357.000000   0.293440"
      ]
     },
     "execution_count": 49,
     "metadata": {},
     "output_type": "execute_result"
    }
   ],
   "source": [
    "atraso_mes.describe()"
   ]
  },
  {
   "cell_type": "code",
   "execution_count": 50,
   "metadata": {},
   "outputs": [
    {
     "data": {
      "image/png": "[encoded data removed]",
      "text/plain": [
       "<Figure size 900x360 with 1 Axes>"
      ]
     },
     "metadata": {
      "needs_background": "light"
     },
     "output_type": "display_data"
    }
   ],
   "source": [
    "sns.catplot(data=atraso_mes, \n",
    "            x='Mes-I', \n",
    "            y ='ratio',\n",
    "            kind=\"bar\",\n",
    "            height=5, aspect=2.5)\n",
    "plt.xticks(rotation=70)\n",
    "plt.tight_layout()"
   ]
  },
  {
   "cell_type": "markdown",
   "metadata": {},
   "source": [
    "**Día:** Se observa una mayor tasa de atrasos los días viernes, lunes y martes."
   ]
  },
  {
   "cell_type": "code",
   "execution_count": 51,
   "metadata": {},
   "outputs": [],
   "source": [
    "atraso_dia = df.groupby(['DiaNom-I'], as_index=False)['atraso_15'] \\\n",
    "    .agg([\"sum\", \"count\"]).reset_index() \\\n",
    "    .assign(ratio = lambda x: x['sum'] / x['count']) \\\n",
    "    .sort_values('ratio', ascending= False)"
   ]
  },
  {
   "cell_type": "code",
   "execution_count": 52,
   "metadata": {},
   "outputs": [
    {
     "data": {
      "text/html": [
       "<div>\n",
       "<style scoped>\n",
       "    .dataframe tbody tr th:only-of-type {\n",
       "        vertical-align: middle;\n",
       "    }\n",
       "\n",
       "    .dataframe tbody tr th {\n",
       "        vertical-align: top;\n",
       "    }\n",
       "\n",
       "    .dataframe thead th {\n",
       "        text-align: right;\n",
       "    }\n",
       "</style>\n",
       "<table border=\"1\" class=\"dataframe\">\n",
       "  <thead>\n",
       "    <tr style=\"text-align: right;\">\n",
       "      <th></th>\n",
       "      <th>DiaNom-I</th>\n",
       "      <th>sum</th>\n",
       "      <th>count</th>\n",
       "      <th>ratio</th>\n",
       "    </tr>\n",
       "  </thead>\n",
       "  <tbody>\n",
       "    <tr>\n",
       "      <th>0</th>\n",
       "      <td>Friday</td>\n",
       "      <td>2309</td>\n",
       "      <td>10332</td>\n",
       "      <td>0.223480</td>\n",
       "    </tr>\n",
       "    <tr>\n",
       "      <th>1</th>\n",
       "      <td>Monday</td>\n",
       "      <td>2031</td>\n",
       "      <td>10098</td>\n",
       "      <td>0.201129</td>\n",
       "    </tr>\n",
       "    <tr>\n",
       "      <th>4</th>\n",
       "      <td>Thursday</td>\n",
       "      <td>2040</td>\n",
       "      <td>10245</td>\n",
       "      <td>0.199122</td>\n",
       "    </tr>\n",
       "    <tr>\n",
       "      <th>6</th>\n",
       "      <td>Wednesday</td>\n",
       "      <td>1670</td>\n",
       "      <td>9726</td>\n",
       "      <td>0.171705</td>\n",
       "    </tr>\n",
       "    <tr>\n",
       "      <th>5</th>\n",
       "      <td>Tuesday</td>\n",
       "      <td>1638</td>\n",
       "      <td>9666</td>\n",
       "      <td>0.169460</td>\n",
       "    </tr>\n",
       "  </tbody>\n",
       "</table>\n",
       "</div>"
      ],
      "text/plain": [
       "    DiaNom-I   sum  count     ratio\n",
       "0     Friday  2309  10332  0.223480\n",
       "1     Monday  2031  10098  0.201129\n",
       "4   Thursday  2040  10245  0.199122\n",
       "6  Wednesday  1670   9726  0.171705\n",
       "5    Tuesday  1638   9666  0.169460"
      ]
     },
     "execution_count": 52,
     "metadata": {},
     "output_type": "execute_result"
    }
   ],
   "source": [
    "atraso_dia.head()"
   ]
  },
  {
   "cell_type": "code",
   "execution_count": 53,
   "metadata": {},
   "outputs": [
    {
     "data": {
      "text/html": [
       "<div>\n",
       "<style scoped>\n",
       "    .dataframe tbody tr th:only-of-type {\n",
       "        vertical-align: middle;\n",
       "    }\n",
       "\n",
       "    .dataframe tbody tr th {\n",
       "        vertical-align: top;\n",
       "    }\n",
       "\n",
       "    .dataframe thead th {\n",
       "        text-align: right;\n",
       "    }\n",
       "</style>\n",
       "<table border=\"1\" class=\"dataframe\">\n",
       "  <thead>\n",
       "    <tr style=\"text-align: right;\">\n",
       "      <th></th>\n",
       "      <th>sum</th>\n",
       "      <th>count</th>\n",
       "      <th>ratio</th>\n",
       "    </tr>\n",
       "  </thead>\n",
       "  <tbody>\n",
       "    <tr>\n",
       "      <th>count</th>\n",
       "      <td>7.000000</td>\n",
       "      <td>7.000000</td>\n",
       "      <td>7.000000</td>\n",
       "    </tr>\n",
       "    <tr>\n",
       "      <th>mean</th>\n",
       "      <td>1802.000000</td>\n",
       "      <td>9743.714286</td>\n",
       "      <td>0.183896</td>\n",
       "    </tr>\n",
       "    <tr>\n",
       "      <th>std</th>\n",
       "      <td>335.978174</td>\n",
       "      <td>683.646281</td>\n",
       "      <td>0.024111</td>\n",
       "    </tr>\n",
       "    <tr>\n",
       "      <th>min</th>\n",
       "      <td>1327.000000</td>\n",
       "      <td>8306.000000</td>\n",
       "      <td>0.159764</td>\n",
       "    </tr>\n",
       "    <tr>\n",
       "      <th>25%</th>\n",
       "      <td>1618.500000</td>\n",
       "      <td>9696.000000</td>\n",
       "      <td>0.166038</td>\n",
       "    </tr>\n",
       "    <tr>\n",
       "      <th>50%</th>\n",
       "      <td>1670.000000</td>\n",
       "      <td>9833.000000</td>\n",
       "      <td>0.171705</td>\n",
       "    </tr>\n",
       "    <tr>\n",
       "      <th>75%</th>\n",
       "      <td>2035.500000</td>\n",
       "      <td>10171.500000</td>\n",
       "      <td>0.200125</td>\n",
       "    </tr>\n",
       "    <tr>\n",
       "      <th>max</th>\n",
       "      <td>2309.000000</td>\n",
       "      <td>10332.000000</td>\n",
       "      <td>0.223480</td>\n",
       "    </tr>\n",
       "  </tbody>\n",
       "</table>\n",
       "</div>"
      ],
      "text/plain": [
       "               sum         count     ratio\n",
       "count     7.000000      7.000000  7.000000\n",
       "mean   1802.000000   9743.714286  0.183896\n",
       "std     335.978174    683.646281  0.024111\n",
       "min    1327.000000   8306.000000  0.159764\n",
       "25%    1618.500000   9696.000000  0.166038\n",
       "50%    1670.000000   9833.000000  0.171705\n",
       "75%    2035.500000  10171.500000  0.200125\n",
       "max    2309.000000  10332.000000  0.223480"
      ]
     },
     "execution_count": 53,
     "metadata": {},
     "output_type": "execute_result"
    }
   ],
   "source": [
    "atraso_dia.describe()"
   ]
  },
  {
   "cell_type": "code",
   "execution_count": 54,
   "metadata": {},
   "outputs": [
    {
     "data": {
      "image/png": "[encoded data removed]",
      "text/plain": [
       "<Figure size 900x360 with 1 Axes>"
      ]
     },
     "metadata": {
      "needs_background": "light"
     },
     "output_type": "display_data"
    }
   ],
   "source": [
    "sns.catplot(data=atraso_dia, \n",
    "            x='DiaNom-I', \n",
    "            y ='ratio',\n",
    "            kind=\"bar\",\n",
    "            height=5, aspect=2.5)\n",
    "plt.xticks(rotation=70)\n",
    "plt.tight_layout()"
   ]
  },
  {
   "cell_type": "markdown",
   "metadata": {},
   "source": [
    "**Temporada:** Se observa una mayor tasa de atrasos en tempordada alta."
   ]
  },
  {
   "cell_type": "code",
   "execution_count": 55,
   "metadata": {},
   "outputs": [],
   "source": [
    "atraso_temporada = df.groupby(['temporada_alta'], as_index=False)['atraso_15'] \\\n",
    "    .agg([\"sum\", \"count\"]).reset_index() \\\n",
    "    .assign(ratio = lambda x: x['sum'] / x['count']) \\\n",
    "    .sort_values('ratio', ascending= False)"
   ]
  },
  {
   "cell_type": "code",
   "execution_count": 56,
   "metadata": {},
   "outputs": [
    {
     "data": {
      "text/html": [
       "<div>\n",
       "<style scoped>\n",
       "    .dataframe tbody tr th:only-of-type {\n",
       "        vertical-align: middle;\n",
       "    }\n",
       "\n",
       "    .dataframe tbody tr th {\n",
       "        vertical-align: top;\n",
       "    }\n",
       "\n",
       "    .dataframe thead th {\n",
       "        text-align: right;\n",
       "    }\n",
       "</style>\n",
       "<table border=\"1\" class=\"dataframe\">\n",
       "  <thead>\n",
       "    <tr style=\"text-align: right;\">\n",
       "      <th></th>\n",
       "      <th>temporada_alta</th>\n",
       "      <th>sum</th>\n",
       "      <th>count</th>\n",
       "      <th>ratio</th>\n",
       "    </tr>\n",
       "  </thead>\n",
       "  <tbody>\n",
       "    <tr>\n",
       "      <th>1</th>\n",
       "      <td>1</td>\n",
       "      <td>1605</td>\n",
       "      <td>7047</td>\n",
       "      <td>0.227756</td>\n",
       "    </tr>\n",
       "    <tr>\n",
       "      <th>0</th>\n",
       "      <td>0</td>\n",
       "      <td>11009</td>\n",
       "      <td>61159</td>\n",
       "      <td>0.180006</td>\n",
       "    </tr>\n",
       "  </tbody>\n",
       "</table>\n",
       "</div>"
      ],
      "text/plain": [
       "   temporada_alta    sum  count     ratio\n",
       "1               1   1605   7047  0.227756\n",
       "0               0  11009  61159  0.180006"
      ]
     },
     "execution_count": 56,
     "metadata": {},
     "output_type": "execute_result"
    }
   ],
   "source": [
    "atraso_temporada.head()"
   ]
  },
  {
   "cell_type": "code",
   "execution_count": 57,
   "metadata": {},
   "outputs": [
    {
     "data": {
      "text/html": [
       "<div>\n",
       "<style scoped>\n",
       "    .dataframe tbody tr th:only-of-type {\n",
       "        vertical-align: middle;\n",
       "    }\n",
       "\n",
       "    .dataframe tbody tr th {\n",
       "        vertical-align: top;\n",
       "    }\n",
       "\n",
       "    .dataframe thead th {\n",
       "        text-align: right;\n",
       "    }\n",
       "</style>\n",
       "<table border=\"1\" class=\"dataframe\">\n",
       "  <thead>\n",
       "    <tr style=\"text-align: right;\">\n",
       "      <th></th>\n",
       "      <th>temporada_alta</th>\n",
       "      <th>sum</th>\n",
       "      <th>count</th>\n",
       "      <th>ratio</th>\n",
       "    </tr>\n",
       "  </thead>\n",
       "  <tbody>\n",
       "    <tr>\n",
       "      <th>count</th>\n",
       "      <td>2.000000</td>\n",
       "      <td>2.00000</td>\n",
       "      <td>2.000000</td>\n",
       "      <td>2.000000</td>\n",
       "    </tr>\n",
       "    <tr>\n",
       "      <th>mean</th>\n",
       "      <td>0.500000</td>\n",
       "      <td>6307.00000</td>\n",
       "      <td>34103.000000</td>\n",
       "      <td>0.203881</td>\n",
       "    </tr>\n",
       "    <tr>\n",
       "      <th>std</th>\n",
       "      <td>0.707107</td>\n",
       "      <td>6649.63217</td>\n",
       "      <td>38262.962144</td>\n",
       "      <td>0.033765</td>\n",
       "    </tr>\n",
       "    <tr>\n",
       "      <th>min</th>\n",
       "      <td>0.000000</td>\n",
       "      <td>1605.00000</td>\n",
       "      <td>7047.000000</td>\n",
       "      <td>0.180006</td>\n",
       "    </tr>\n",
       "    <tr>\n",
       "      <th>25%</th>\n",
       "      <td>0.250000</td>\n",
       "      <td>3956.00000</td>\n",
       "      <td>20575.000000</td>\n",
       "      <td>0.191944</td>\n",
       "    </tr>\n",
       "    <tr>\n",
       "      <th>50%</th>\n",
       "      <td>0.500000</td>\n",
       "      <td>6307.00000</td>\n",
       "      <td>34103.000000</td>\n",
       "      <td>0.203881</td>\n",
       "    </tr>\n",
       "    <tr>\n",
       "      <th>75%</th>\n",
       "      <td>0.750000</td>\n",
       "      <td>8658.00000</td>\n",
       "      <td>47631.000000</td>\n",
       "      <td>0.215819</td>\n",
       "    </tr>\n",
       "    <tr>\n",
       "      <th>max</th>\n",
       "      <td>1.000000</td>\n",
       "      <td>11009.00000</td>\n",
       "      <td>61159.000000</td>\n",
       "      <td>0.227756</td>\n",
       "    </tr>\n",
       "  </tbody>\n",
       "</table>\n",
       "</div>"
      ],
      "text/plain": [
       "       temporada_alta          sum         count     ratio\n",
       "count        2.000000      2.00000      2.000000  2.000000\n",
       "mean         0.500000   6307.00000  34103.000000  0.203881\n",
       "std          0.707107   6649.63217  38262.962144  0.033765\n",
       "min          0.000000   1605.00000   7047.000000  0.180006\n",
       "25%          0.250000   3956.00000  20575.000000  0.191944\n",
       "50%          0.500000   6307.00000  34103.000000  0.203881\n",
       "75%          0.750000   8658.00000  47631.000000  0.215819\n",
       "max          1.000000  11009.00000  61159.000000  0.227756"
      ]
     },
     "execution_count": 57,
     "metadata": {},
     "output_type": "execute_result"
    }
   ],
   "source": [
    "atraso_temporada.describe()"
   ]
  },
  {
   "cell_type": "code",
   "execution_count": 58,
   "metadata": {},
   "outputs": [
    {
     "data": {
      "image/png": "[encoded data removed]",
      "text/plain": [
       "<Figure size 288x288 with 1 Axes>"
      ]
     },
     "metadata": {
      "needs_background": "light"
     },
     "output_type": "display_data"
    }
   ],
   "source": [
    "sns.catplot(data=atraso_temporada, \n",
    "            x='temporada_alta', \n",
    "            y ='ratio',\n",
    "            kind=\"bar\",\n",
    "            height=4, aspect=1)\n",
    "plt.xticks(rotation=70)\n",
    "plt.tight_layout()"
   ]
  },
  {
   "cell_type": "markdown",
   "metadata": {},
   "source": [
    "**Tipo Vuelo:** Se observa una mayor tasa de atrasos en vuelos internacionales."
   ]
  },
  {
   "cell_type": "code",
   "execution_count": 59,
   "metadata": {},
   "outputs": [],
   "source": [
    "atraso_tipo_vuelo = df.groupby(['TIPOVUELO'], as_index=False)['atraso_15'] \\\n",
    "    .agg([\"sum\", \"count\"]).reset_index() \\\n",
    "    .assign(ratio = lambda x: x['sum'] / x['count']) \\\n",
    "    .sort_values('ratio', ascending= False)"
   ]
  },
  {
   "cell_type": "code",
   "execution_count": 60,
   "metadata": {},
   "outputs": [
    {
     "data": {
      "text/html": [
       "<div>\n",
       "<style scoped>\n",
       "    .dataframe tbody tr th:only-of-type {\n",
       "        vertical-align: middle;\n",
       "    }\n",
       "\n",
       "    .dataframe tbody tr th {\n",
       "        vertical-align: top;\n",
       "    }\n",
       "\n",
       "    .dataframe thead th {\n",
       "        text-align: right;\n",
       "    }\n",
       "</style>\n",
       "<table border=\"1\" class=\"dataframe\">\n",
       "  <thead>\n",
       "    <tr style=\"text-align: right;\">\n",
       "      <th></th>\n",
       "      <th>TIPOVUELO</th>\n",
       "      <th>sum</th>\n",
       "      <th>count</th>\n",
       "      <th>ratio</th>\n",
       "    </tr>\n",
       "  </thead>\n",
       "  <tbody>\n",
       "    <tr>\n",
       "      <th>0</th>\n",
       "      <td>I</td>\n",
       "      <td>7048</td>\n",
       "      <td>31240</td>\n",
       "      <td>0.225608</td>\n",
       "    </tr>\n",
       "    <tr>\n",
       "      <th>1</th>\n",
       "      <td>N</td>\n",
       "      <td>5566</td>\n",
       "      <td>36966</td>\n",
       "      <td>0.150571</td>\n",
       "    </tr>\n",
       "  </tbody>\n",
       "</table>\n",
       "</div>"
      ],
      "text/plain": [
       "  TIPOVUELO   sum  count     ratio\n",
       "0         I  7048  31240  0.225608\n",
       "1         N  5566  36966  0.150571"
      ]
     },
     "execution_count": 60,
     "metadata": {},
     "output_type": "execute_result"
    }
   ],
   "source": [
    "atraso_tipo_vuelo.head()"
   ]
  },
  {
   "cell_type": "code",
   "execution_count": 61,
   "metadata": {},
   "outputs": [
    {
     "data": {
      "text/html": [
       "<div>\n",
       "<style scoped>\n",
       "    .dataframe tbody tr th:only-of-type {\n",
       "        vertical-align: middle;\n",
       "    }\n",
       "\n",
       "    .dataframe tbody tr th {\n",
       "        vertical-align: top;\n",
       "    }\n",
       "\n",
       "    .dataframe thead th {\n",
       "        text-align: right;\n",
       "    }\n",
       "</style>\n",
       "<table border=\"1\" class=\"dataframe\">\n",
       "  <thead>\n",
       "    <tr style=\"text-align: right;\">\n",
       "      <th></th>\n",
       "      <th>sum</th>\n",
       "      <th>count</th>\n",
       "      <th>ratio</th>\n",
       "    </tr>\n",
       "  </thead>\n",
       "  <tbody>\n",
       "    <tr>\n",
       "      <th>count</th>\n",
       "      <td>2.00000</td>\n",
       "      <td>2.000000</td>\n",
       "      <td>2.000000</td>\n",
       "    </tr>\n",
       "    <tr>\n",
       "      <th>mean</th>\n",
       "      <td>6307.00000</td>\n",
       "      <td>34103.000000</td>\n",
       "      <td>0.188089</td>\n",
       "    </tr>\n",
       "    <tr>\n",
       "      <th>std</th>\n",
       "      <td>1047.93225</td>\n",
       "      <td>4048.893429</td>\n",
       "      <td>0.053059</td>\n",
       "    </tr>\n",
       "    <tr>\n",
       "      <th>min</th>\n",
       "      <td>5566.00000</td>\n",
       "      <td>31240.000000</td>\n",
       "      <td>0.150571</td>\n",
       "    </tr>\n",
       "    <tr>\n",
       "      <th>25%</th>\n",
       "      <td>5936.50000</td>\n",
       "      <td>32671.500000</td>\n",
       "      <td>0.169330</td>\n",
       "    </tr>\n",
       "    <tr>\n",
       "      <th>50%</th>\n",
       "      <td>6307.00000</td>\n",
       "      <td>34103.000000</td>\n",
       "      <td>0.188089</td>\n",
       "    </tr>\n",
       "    <tr>\n",
       "      <th>75%</th>\n",
       "      <td>6677.50000</td>\n",
       "      <td>35534.500000</td>\n",
       "      <td>0.206849</td>\n",
       "    </tr>\n",
       "    <tr>\n",
       "      <th>max</th>\n",
       "      <td>7048.00000</td>\n",
       "      <td>36966.000000</td>\n",
       "      <td>0.225608</td>\n",
       "    </tr>\n",
       "  </tbody>\n",
       "</table>\n",
       "</div>"
      ],
      "text/plain": [
       "              sum         count     ratio\n",
       "count     2.00000      2.000000  2.000000\n",
       "mean   6307.00000  34103.000000  0.188089\n",
       "std    1047.93225   4048.893429  0.053059\n",
       "min    5566.00000  31240.000000  0.150571\n",
       "25%    5936.50000  32671.500000  0.169330\n",
       "50%    6307.00000  34103.000000  0.188089\n",
       "75%    6677.50000  35534.500000  0.206849\n",
       "max    7048.00000  36966.000000  0.225608"
      ]
     },
     "execution_count": 61,
     "metadata": {},
     "output_type": "execute_result"
    }
   ],
   "source": [
    "atraso_tipo_vuelo.describe()"
   ]
  },
  {
   "cell_type": "code",
   "execution_count": 62,
   "metadata": {},
   "outputs": [
    {
     "data": {
      "image/png": "[encoded data removed]",
      "text/plain": [
       "<Figure size 288x288 with 1 Axes>"
      ]
     },
     "metadata": {
      "needs_background": "light"
     },
     "output_type": "display_data"
    }
   ],
   "source": [
    "sns.catplot(data=atraso_tipo_vuelo, \n",
    "            x='TIPOVUELO', \n",
    "            y ='ratio',\n",
    "            kind=\"bar\",\n",
    "            height=4, aspect=1)\n",
    "plt.xticks(rotation=70)\n",
    "plt.tight_layout()"
   ]
  },
  {
   "cell_type": "markdown",
   "metadata": {},
   "source": [
    "Se observa una alta cardinalidad en las variables aerolineas y destinos.\n",
    "\n",
    "Para el caso de los destinos, podemos extraer la primera letra del codigo destino, ya que indica el continente/zona del aeropuerto (https://en.wikipedia.org/wiki/ICAO_airport_code) y en conjunto con la variable distancia podemos aproximarnos a la ubicación, así disminuimos la cardinalidad.\n",
    "\n",
    "En la variable aerolinea, probaremos incluirla tal cual, aplicando one-hot-encoding.\n",
    "\n",
    "Tambien el día del del mes, lo reduciremos a semana en el mes, para evitar tanta cardinalidad,"
   ]
  },
  {
   "cell_type": "code",
   "execution_count": 63,
   "metadata": {},
   "outputs": [],
   "source": [
    "df['Region-I'] = df['Des-I'].str[:1]"
   ]
  },
  {
   "cell_type": "code",
   "execution_count": 64,
   "metadata": {},
   "outputs": [
    {
     "data": {
      "image/png": "[encoded data removed]",
      "text/plain": [
       "<Figure size 900x360 with 1 Axes>"
      ]
     },
     "metadata": {
      "needs_background": "light"
     },
     "output_type": "display_data"
    }
   ],
   "source": [
    "sns.catplot(data=df, \n",
    "            x='Region-I', \n",
    "            kind=\"count\", \n",
    "            order = df['Region-I'].value_counts().index, \n",
    "            height=5, aspect=2.5)\n",
    "plt.xticks(rotation=70)\n",
    "#plt.xlabel('Vlo-I',fontsize=1)\n",
    "plt.tight_layout()"
   ]
  },
  {
   "cell_type": "code",
   "execution_count": 65,
   "metadata": {},
   "outputs": [],
   "source": [
    "import math\n",
    "df['SemanaMes-I'] = df['Dia-I'].apply(lambda x: x/7).apply(lambda x: math.ceil(x))"
   ]
  },
  {
   "cell_type": "code",
   "execution_count": 66,
   "metadata": {},
   "outputs": [
    {
     "data": {
      "image/png": "[encoded data removed]",
      "text/plain": [
       "<Figure size 957.25x360 with 1 Axes>"
      ]
     },
     "metadata": {
      "needs_background": "light"
     },
     "output_type": "display_data"
    }
   ],
   "source": [
    "sns.catplot(data=df, \n",
    "            x='SemanaMes-I', \n",
    "            hue='atraso_15',\n",
    "            kind=\"count\", \n",
    "            height=5, aspect=2.5)\n",
    "plt.xticks(rotation=70)\n",
    "#plt.xlabel('Vlo-I',fontsize=1)\n",
    "plt.tight_layout()"
   ]
  },
  {
   "cell_type": "markdown",
   "metadata": {},
   "source": [
    "##### Entrena uno o varios modelos (usando el/los algoritmo(s) que prefieras) para estimar la probabilidad de atraso de un vuelo.\n"
   ]
  },
  {
   "cell_type": "markdown",
   "metadata": {},
   "source": [
    "De acuerdo a lo comentado anteriormente, nuestra selección de variables para modelar el problema son las sigueintes:"
   ]
  },
  {
   "cell_type": "code",
   "execution_count": 67,
   "metadata": {},
   "outputs": [],
   "source": [
    "\n",
    "variables = ['Region-I', 'Emp-I','distancia','TIPOVUELO', 'SemanaMes-I', 'Mes-I', 'DiaNom-I',\n",
    "'temporada_alta', 'periodo_dia']\n",
    "target = ['atraso_15']"
   ]
  },
  {
   "cell_type": "code",
   "execution_count": 68,
   "metadata": {},
   "outputs": [],
   "source": [
    "#transformamos variables categoricas\n",
    "df['Mes-I'] = df['Mes-I'].astype(str)\n",
    "df['SemanaMes-I'] = df['SemanaMes-I'].astype(str)\n",
    "df['temporada_alta'] = df['temporada_alta'].astype(str)"
   ]
  },
  {
   "cell_type": "code",
   "execution_count": 69,
   "metadata": {},
   "outputs": [],
   "source": [
    "X_train, X_test, y_train, y_test = train_test_split(df[variables], df[target], test_size = .2, random_state = 22)"
   ]
  },
  {
   "cell_type": "code",
   "execution_count": 70,
   "metadata": {},
   "outputs": [],
   "source": [
    "categorical_cols = [c for c in X_train.columns if X_train[c].dtype in [object]]\n",
    "numerical_cols = [c for c in X_train.columns if X_train[c].dtype in [float, int, np.int64]]"
   ]
  },
  {
   "cell_type": "code",
   "execution_count": 109,
   "metadata": {},
   "outputs": [],
   "source": [
    "#creamos pipeline\n",
    "numeric_transformer = Pipeline(steps=[\n",
    "    ('imputer', SimpleImputer(strategy ='constant', fill_value = 0))\n",
    "])\n",
    "\n",
    "categorical_transformer = Pipeline(steps=[\n",
    "    ('encoder', OneHotEncoder(handle_unknown='ignore'))\n",
    "])\n",
    "\n",
    "preprocessor = ColumnTransformer(\n",
    "    transformers =[\n",
    "        ('numeric',numeric_transformer,numerical_cols),\n",
    "        ('categorical',categorical_transformer,categorical_cols)\n",
    "    ]\n",
    ")"
   ]
  },
  {
   "cell_type": "markdown",
   "metadata": {},
   "source": [
    "Entrenaremos utilizando el algoritmo lightgbm"
   ]
  },
  {
   "cell_type": "code",
   "execution_count": 110,
   "metadata": {},
   "outputs": [],
   "source": [
    "pipe_lgbm = Pipeline(steps = [\n",
    "    ('preprocessor', preprocessor),\n",
    "    ('classifier', lgbm.LGBMClassifier())\n",
    "])"
   ]
  },
  {
   "cell_type": "code",
   "execution_count": 111,
   "metadata": {},
   "outputs": [
    {
     "name": "stderr",
     "output_type": "stream",
     "text": [
      "c:\\ProgramData\\Anaconda3\\lib\\site-packages\\sklearn\\preprocessing\\_label.py:98: DataConversionWarning: A column-vector y was passed when a 1d array was expected. Please change the shape of y to (n_samples, ), for example using ravel().\n",
      "  y = column_or_1d(y, warn=True)\n",
      "c:\\ProgramData\\Anaconda3\\lib\\site-packages\\sklearn\\preprocessing\\_label.py:133: DataConversionWarning: A column-vector y was passed when a 1d array was expected. Please change the shape of y to (n_samples, ), for example using ravel().\n",
      "  y = column_or_1d(y, warn=True)\n"
     ]
    }
   ],
   "source": [
    "lgbm_model = pipe_lgbm.fit(X_train,y_train)"
   ]
  },
  {
   "cell_type": "markdown",
   "metadata": {},
   "source": [
    "Haremos una busqueda de hiperparametros aleatoria, ojo con el parametro 'scale_pos_weight' para casos desbalanceados"
   ]
  },
  {
   "cell_type": "code",
   "execution_count": 112,
   "metadata": {},
   "outputs": [],
   "source": [
    "grid_params_lgbm = {'classifier__learning_rate': np.arange(0.05,0.2,0.01), \n",
    "                   'classifier__n_estimators': np.arange(100,200,20),\n",
    "                   'classifier__num_leaves': np.arange(30,100,10),\n",
    "                   'classifier__colsample_bytree': np.arange(0.5,0.9,0.1),\n",
    "                   'classifier__subsample': np.arange(0.1,0.9,0.1), \n",
    "                   'classifier__reg_alpha': np.arange(0.3,0.9,0.1), \n",
    "                   'classifier__reg_lambda': np.arange(0.3,0.9,0.1), \n",
    "                   'classifier__scale_pos_weight': np.arange(2,10,1)}"
   ]
  },
  {
   "cell_type": "code",
   "execution_count": 113,
   "metadata": {},
   "outputs": [],
   "source": [
    "cv_lgbm = RandomizedSearchCV(\n",
    "    estimator= lgbm_model,\n",
    "    param_distributions= grid_params_lgbm,\n",
    "    cv = 3,\n",
    "    n_iter = 60,\n",
    "    n_jobs=-1,\n",
    "    scoring = 'recall',\n",
    "    verbose= 2\n",
    ")"
   ]
  },
  {
   "cell_type": "code",
   "execution_count": 114,
   "metadata": {},
   "outputs": [
    {
     "name": "stdout",
     "output_type": "stream",
     "text": [
      "Fitting 3 folds for each of 60 candidates, totalling 180 fits\n"
     ]
    },
    {
     "name": "stderr",
     "output_type": "stream",
     "text": [
      "c:\\ProgramData\\Anaconda3\\lib\\site-packages\\sklearn\\preprocessing\\_label.py:98: DataConversionWarning: A column-vector y was passed when a 1d array was expected. Please change the shape of y to (n_samples, ), for example using ravel().\n",
      "  y = column_or_1d(y, warn=True)\n",
      "c:\\ProgramData\\Anaconda3\\lib\\site-packages\\sklearn\\preprocessing\\_label.py:133: DataConversionWarning: A column-vector y was passed when a 1d array was expected. Please change the shape of y to (n_samples, ), for example using ravel().\n",
      "  y = column_or_1d(y, warn=True)\n"
     ]
    },
    {
     "data": {
      "text/html": [
       "<style>#sk-container-id-7 {color: black;background-color: white;}#sk-container-id-7 pre{padding: 0;}#sk-container-id-7 div.sk-toggleable {background-color: white;}#sk-container-id-7 label.sk-toggleable__label {cursor: pointer;display: block;width: 100%;margin-bottom: 0;padding: 0.3em;box-sizing: border-box;text-align: center;}#sk-container-id-7 label.sk-toggleable__label-arrow:before {content: \"▸\";float: left;margin-right: 0.25em;color: #696969;}#sk-container-id-7 label.sk-toggleable__label-arrow:hover:before {color: black;}#sk-container-id-7 div.sk-estimator:hover label.sk-toggleable__label-arrow:before {color: black;}#sk-container-id-7 div.sk-toggleable__content {max-height: 0;max-width: 0;overflow: hidden;text-align: left;background-color: #f0f8ff;}#sk-container-id-7 div.sk-toggleable__content pre {margin: 0.2em;color: black;border-radius: 0.25em;background-color: #f0f8ff;}#sk-container-id-7 input.sk-toggleable__control:checked~div.sk-toggleable__content {max-height: 200px;max-width: 100%;overflow: auto;}#sk-container-id-7 input.sk-toggleable__control:checked~label.sk-toggleable__label-arrow:before {content: \"▾\";}#sk-container-id-7 div.sk-estimator input.sk-toggleable__control:checked~label.sk-toggleable__label {background-color: #d4ebff;}#sk-container-id-7 div.sk-label input.sk-toggleable__control:checked~label.sk-toggleable__label {background-color: #d4ebff;}#sk-container-id-7 input.sk-hidden--visually {border: 0;clip: rect(1px 1px 1px 1px);clip: rect(1px, 1px, 1px, 1px);height: 1px;margin: -1px;overflow: hidden;padding: 0;position: absolute;width: 1px;}#sk-container-id-7 div.sk-estimator {font-family: monospace;background-color: #f0f8ff;border: 1px dotted black;border-radius: 0.25em;box-sizing: border-box;margin-bottom: 0.5em;}#sk-container-id-7 div.sk-estimator:hover {background-color: #d4ebff;}#sk-container-id-7 div.sk-parallel-item::after {content: \"\";width: 100%;border-bottom: 1px solid gray;flex-grow: 1;}#sk-container-id-7 div.sk-label:hover label.sk-toggleable__label {background-color: #d4ebff;}#sk-container-id-7 div.sk-serial::before {content: \"\";position: absolute;border-left: 1px solid gray;box-sizing: border-box;top: 0;bottom: 0;left: 50%;z-index: 0;}#sk-container-id-7 div.sk-serial {display: flex;flex-direction: column;align-items: center;background-color: white;padding-right: 0.2em;padding-left: 0.2em;position: relative;}#sk-container-id-7 div.sk-item {position: relative;z-index: 1;}#sk-container-id-7 div.sk-parallel {display: flex;align-items: stretch;justify-content: center;background-color: white;position: relative;}#sk-container-id-7 div.sk-item::before, #sk-container-id-7 div.sk-parallel-item::before {content: \"\";position: absolute;border-left: 1px solid gray;box-sizing: border-box;top: 0;bottom: 0;left: 50%;z-index: -1;}#sk-container-id-7 div.sk-parallel-item {display: flex;flex-direction: column;z-index: 1;position: relative;background-color: white;}#sk-container-id-7 div.sk-parallel-item:first-child::after {align-self: flex-end;width: 50%;}#sk-container-id-7 div.sk-parallel-item:last-child::after {align-self: flex-start;width: 50%;}#sk-container-id-7 div.sk-parallel-item:only-child::after {width: 0;}#sk-container-id-7 div.sk-dashed-wrapped {border: 1px dashed gray;margin: 0 0.4em 0.5em 0.4em;box-sizing: border-box;padding-bottom: 0.4em;background-color: white;}#sk-container-id-7 div.sk-label label {font-family: monospace;font-weight: bold;display: inline-block;line-height: 1.2em;}#sk-container-id-7 div.sk-label-container {text-align: center;}#sk-container-id-7 div.sk-container {/* jupyter's `normalize.less` sets `[hidden] { display: none; }` but bootstrap.min.css set `[hidden] { display: none !important; }` so we also need the `!important` here to be able to override the default hidden behavior on the sphinx rendered scikit-learn.org. See: https://github.com/scikit-learn/scikit-learn/issues/21755 */display: inline-block !important;position: relative;}#sk-container-id-7 div.sk-text-repr-fallback {display: none;}</style><div id=\"sk-container-id-7\" class=\"sk-top-container\"><div class=\"sk-text-repr-fallback\"><pre>RandomizedSearchCV(cv=3,\n",
       "                   estimator=Pipeline(steps=[(&#x27;preprocessor&#x27;,\n",
       "                                              ColumnTransformer(transformers=[(&#x27;numeric&#x27;,\n",
       "                                                                               Pipeline(steps=[(&#x27;imputer&#x27;,\n",
       "                                                                                                SimpleImputer(fill_value=0,\n",
       "                                                                                                              strategy=&#x27;constant&#x27;))]),\n",
       "                                                                               [&#x27;distancia&#x27;]),\n",
       "                                                                              (&#x27;categorical&#x27;,\n",
       "                                                                               Pipeline(steps=[(&#x27;encoder&#x27;,\n",
       "                                                                                                OneHotEncoder(handle_unknown=&#x27;ignore&#x27;))]),\n",
       "                                                                               [&#x27;Region-I&#x27;,\n",
       "                                                                                &#x27;Emp-I&#x27;,\n",
       "                                                                                &#x27;TIPOVUELO&#x27;,\n",
       "                                                                                &#x27;SemanaMes-I&#x27;,\n",
       "                                                                                &#x27;Mes-I&#x27;,\n",
       "                                                                                &#x27;DiaNom-I&#x27;...\n",
       "                                        &#x27;classifier__n_estimators&#x27;: array([100, 120, 140, 160, 180]),\n",
       "                                        &#x27;classifier__num_leaves&#x27;: array([30, 40, 50, 60, 70, 80, 90]),\n",
       "                                        &#x27;classifier__reg_alpha&#x27;: array([0.3, 0.4, 0.5, 0.6, 0.7, 0.8, 0.9]),\n",
       "                                        &#x27;classifier__reg_lambda&#x27;: array([0.3, 0.4, 0.5, 0.6, 0.7, 0.8, 0.9]),\n",
       "                                        &#x27;classifier__scale_pos_weight&#x27;: array([2, 3, 4, 5, 6, 7, 8, 9]),\n",
       "                                        &#x27;classifier__subsample&#x27;: array([0.3, 0.4, 0.5, 0.6, 0.7, 0.8, 0.9])},\n",
       "                   scoring=&#x27;recall&#x27;, verbose=2)</pre><b>In a Jupyter environment, please rerun this cell to show the HTML representation or trust the notebook. <br />On GitHub, the HTML representation is unable to render, please try loading this page with nbviewer.org.</b></div><div class=\"sk-container\" hidden><div class=\"sk-item sk-dashed-wrapped\"><div class=\"sk-label-container\"><div class=\"sk-label sk-toggleable\"><input class=\"sk-toggleable__control sk-hidden--visually\" id=\"sk-estimator-id-28\" type=\"checkbox\" ><label for=\"sk-estimator-id-28\" class=\"sk-toggleable__label sk-toggleable__label-arrow\">RandomizedSearchCV</label><div class=\"sk-toggleable__content\"><pre>RandomizedSearchCV(cv=3,\n",
       "                   estimator=Pipeline(steps=[(&#x27;preprocessor&#x27;,\n",
       "                                              ColumnTransformer(transformers=[(&#x27;numeric&#x27;,\n",
       "                                                                               Pipeline(steps=[(&#x27;imputer&#x27;,\n",
       "                                                                                                SimpleImputer(fill_value=0,\n",
       "                                                                                                              strategy=&#x27;constant&#x27;))]),\n",
       "                                                                               [&#x27;distancia&#x27;]),\n",
       "                                                                              (&#x27;categorical&#x27;,\n",
       "                                                                               Pipeline(steps=[(&#x27;encoder&#x27;,\n",
       "                                                                                                OneHotEncoder(handle_unknown=&#x27;ignore&#x27;))]),\n",
       "                                                                               [&#x27;Region-I&#x27;,\n",
       "                                                                                &#x27;Emp-I&#x27;,\n",
       "                                                                                &#x27;TIPOVUELO&#x27;,\n",
       "                                                                                &#x27;SemanaMes-I&#x27;,\n",
       "                                                                                &#x27;Mes-I&#x27;,\n",
       "                                                                                &#x27;DiaNom-I&#x27;...\n",
       "                                        &#x27;classifier__n_estimators&#x27;: array([100, 120, 140, 160, 180]),\n",
       "                                        &#x27;classifier__num_leaves&#x27;: array([30, 40, 50, 60, 70, 80, 90]),\n",
       "                                        &#x27;classifier__reg_alpha&#x27;: array([0.3, 0.4, 0.5, 0.6, 0.7, 0.8, 0.9]),\n",
       "                                        &#x27;classifier__reg_lambda&#x27;: array([0.3, 0.4, 0.5, 0.6, 0.7, 0.8, 0.9]),\n",
       "                                        &#x27;classifier__scale_pos_weight&#x27;: array([2, 3, 4, 5, 6, 7, 8, 9]),\n",
       "                                        &#x27;classifier__subsample&#x27;: array([0.3, 0.4, 0.5, 0.6, 0.7, 0.8, 0.9])},\n",
       "                   scoring=&#x27;recall&#x27;, verbose=2)</pre></div></div></div><div class=\"sk-parallel\"><div class=\"sk-parallel-item\"><div class=\"sk-item\"><div class=\"sk-label-container\"><div class=\"sk-label sk-toggleable\"><input class=\"sk-toggleable__control sk-hidden--visually\" id=\"sk-estimator-id-29\" type=\"checkbox\" ><label for=\"sk-estimator-id-29\" class=\"sk-toggleable__label sk-toggleable__label-arrow\">estimator: Pipeline</label><div class=\"sk-toggleable__content\"><pre>Pipeline(steps=[(&#x27;preprocessor&#x27;,\n",
       "                 ColumnTransformer(transformers=[(&#x27;numeric&#x27;,\n",
       "                                                  Pipeline(steps=[(&#x27;imputer&#x27;,\n",
       "                                                                   SimpleImputer(fill_value=0,\n",
       "                                                                                 strategy=&#x27;constant&#x27;))]),\n",
       "                                                  [&#x27;distancia&#x27;]),\n",
       "                                                 (&#x27;categorical&#x27;,\n",
       "                                                  Pipeline(steps=[(&#x27;encoder&#x27;,\n",
       "                                                                   OneHotEncoder(handle_unknown=&#x27;ignore&#x27;))]),\n",
       "                                                  [&#x27;Region-I&#x27;, &#x27;Emp-I&#x27;,\n",
       "                                                   &#x27;TIPOVUELO&#x27;, &#x27;SemanaMes-I&#x27;,\n",
       "                                                   &#x27;Mes-I&#x27;, &#x27;DiaNom-I&#x27;,\n",
       "                                                   &#x27;temporada_alta&#x27;,\n",
       "                                                   &#x27;periodo_dia&#x27;])])),\n",
       "                (&#x27;classifier&#x27;, LGBMClassifier())])</pre></div></div></div><div class=\"sk-serial\"><div class=\"sk-item\"><div class=\"sk-serial\"><div class=\"sk-item sk-dashed-wrapped\"><div class=\"sk-label-container\"><div class=\"sk-label sk-toggleable\"><input class=\"sk-toggleable__control sk-hidden--visually\" id=\"sk-estimator-id-30\" type=\"checkbox\" ><label for=\"sk-estimator-id-30\" class=\"sk-toggleable__label sk-toggleable__label-arrow\">preprocessor: ColumnTransformer</label><div class=\"sk-toggleable__content\"><pre>ColumnTransformer(transformers=[(&#x27;numeric&#x27;,\n",
       "                                 Pipeline(steps=[(&#x27;imputer&#x27;,\n",
       "                                                  SimpleImputer(fill_value=0,\n",
       "                                                                strategy=&#x27;constant&#x27;))]),\n",
       "                                 [&#x27;distancia&#x27;]),\n",
       "                                (&#x27;categorical&#x27;,\n",
       "                                 Pipeline(steps=[(&#x27;encoder&#x27;,\n",
       "                                                  OneHotEncoder(handle_unknown=&#x27;ignore&#x27;))]),\n",
       "                                 [&#x27;Region-I&#x27;, &#x27;Emp-I&#x27;, &#x27;TIPOVUELO&#x27;,\n",
       "                                  &#x27;SemanaMes-I&#x27;, &#x27;Mes-I&#x27;, &#x27;DiaNom-I&#x27;,\n",
       "                                  &#x27;temporada_alta&#x27;, &#x27;periodo_dia&#x27;])])</pre></div></div></div><div class=\"sk-parallel\"><div class=\"sk-parallel-item\"><div class=\"sk-item\"><div class=\"sk-label-container\"><div class=\"sk-label sk-toggleable\"><input class=\"sk-toggleable__control sk-hidden--visually\" id=\"sk-estimator-id-31\" type=\"checkbox\" ><label for=\"sk-estimator-id-31\" class=\"sk-toggleable__label sk-toggleable__label-arrow\">numeric</label><div class=\"sk-toggleable__content\"><pre>[&#x27;distancia&#x27;]</pre></div></div></div><div class=\"sk-serial\"><div class=\"sk-item\"><div class=\"sk-serial\"><div class=\"sk-item\"><div class=\"sk-estimator sk-toggleable\"><input class=\"sk-toggleable__control sk-hidden--visually\" id=\"sk-estimator-id-32\" type=\"checkbox\" ><label for=\"sk-estimator-id-32\" class=\"sk-toggleable__label sk-toggleable__label-arrow\">SimpleImputer</label><div class=\"sk-toggleable__content\"><pre>SimpleImputer(fill_value=0, strategy=&#x27;constant&#x27;)</pre></div></div></div></div></div></div></div></div><div class=\"sk-parallel-item\"><div class=\"sk-item\"><div class=\"sk-label-container\"><div class=\"sk-label sk-toggleable\"><input class=\"sk-toggleable__control sk-hidden--visually\" id=\"sk-estimator-id-33\" type=\"checkbox\" ><label for=\"sk-estimator-id-33\" class=\"sk-toggleable__label sk-toggleable__label-arrow\">categorical</label><div class=\"sk-toggleable__content\"><pre>[&#x27;Region-I&#x27;, &#x27;Emp-I&#x27;, &#x27;TIPOVUELO&#x27;, &#x27;SemanaMes-I&#x27;, &#x27;Mes-I&#x27;, &#x27;DiaNom-I&#x27;, &#x27;temporada_alta&#x27;, &#x27;periodo_dia&#x27;]</pre></div></div></div><div class=\"sk-serial\"><div class=\"sk-item\"><div class=\"sk-serial\"><div class=\"sk-item\"><div class=\"sk-estimator sk-toggleable\"><input class=\"sk-toggleable__control sk-hidden--visually\" id=\"sk-estimator-id-34\" type=\"checkbox\" ><label for=\"sk-estimator-id-34\" class=\"sk-toggleable__label sk-toggleable__label-arrow\">OneHotEncoder</label><div class=\"sk-toggleable__content\"><pre>OneHotEncoder(handle_unknown=&#x27;ignore&#x27;)</pre></div></div></div></div></div></div></div></div></div></div><div class=\"sk-item\"><div class=\"sk-estimator sk-toggleable\"><input class=\"sk-toggleable__control sk-hidden--visually\" id=\"sk-estimator-id-35\" type=\"checkbox\" ><label for=\"sk-estimator-id-35\" class=\"sk-toggleable__label sk-toggleable__label-arrow\">LGBMClassifier</label><div class=\"sk-toggleable__content\"><pre>LGBMClassifier()</pre></div></div></div></div></div></div></div></div></div></div></div></div>"
      ],
      "text/plain": [
       "RandomizedSearchCV(cv=3,\n",
       "                   estimator=Pipeline(steps=[('preprocessor',\n",
       "                                              ColumnTransformer(transformers=[('numeric',\n",
       "                                                                               Pipeline(steps=[('imputer',\n",
       "                                                                                                SimpleImputer(fill_value=0,\n",
       "                                                                                                              strategy='constant'))]),\n",
       "                                                                               ['distancia']),\n",
       "                                                                              ('categorical',\n",
       "                                                                               Pipeline(steps=[('encoder',\n",
       "                                                                                                OneHotEncoder(handle_unknown='ignore'))]),\n",
       "                                                                               ['Region-I',\n",
       "                                                                                'Emp-I',\n",
       "                                                                                'TIPOVUELO',\n",
       "                                                                                'SemanaMes-I',\n",
       "                                                                                'Mes-I',\n",
       "                                                                                'DiaNom-I'...\n",
       "                                        'classifier__n_estimators': array([100, 120, 140, 160, 180]),\n",
       "                                        'classifier__num_leaves': array([30, 40, 50, 60, 70, 80, 90]),\n",
       "                                        'classifier__reg_alpha': array([0.3, 0.4, 0.5, 0.6, 0.7, 0.8, 0.9]),\n",
       "                                        'classifier__reg_lambda': array([0.3, 0.4, 0.5, 0.6, 0.7, 0.8, 0.9]),\n",
       "                                        'classifier__scale_pos_weight': array([2, 3, 4, 5, 6, 7, 8, 9]),\n",
       "                                        'classifier__subsample': array([0.3, 0.4, 0.5, 0.6, 0.7, 0.8, 0.9])},\n",
       "                   scoring='recall', verbose=2)"
      ]
     },
     "execution_count": 114,
     "metadata": {},
     "output_type": "execute_result"
    }
   ],
   "source": [
    "cv_lgbm.fit(X_train,y_train)"
   ]
  },
  {
   "cell_type": "code",
   "execution_count": 115,
   "metadata": {},
   "outputs": [
    {
     "data": {
      "text/plain": [
       "{'classifier__subsample': 0.3,\n",
       " 'classifier__scale_pos_weight': 9,\n",
       " 'classifier__reg_lambda': 0.5,\n",
       " 'classifier__reg_alpha': 0.6000000000000001,\n",
       " 'classifier__num_leaves': 40,\n",
       " 'classifier__n_estimators': 160,\n",
       " 'classifier__learning_rate': 0.05,\n",
       " 'classifier__colsample_bytree': 0.7999999999999999}"
      ]
     },
     "execution_count": 115,
     "metadata": {},
     "output_type": "execute_result"
    }
   ],
   "source": [
    "cv_lgbm.best_params_"
   ]
  },
  {
   "cell_type": "markdown",
   "metadata": {},
   "source": [
    "Evalúa tu modelo. ¿Qué performance tiene? ¿Qué métricas usaste para evaluar esa performance y por qué? ¿Por qué\n",
    "elegiste ese algoritmo en particular? ¿Qué variables son las que más influyen en la predicción? ¿Cómo podrías mejorar la\n",
    "performance?"
   ]
  },
  {
   "cell_type": "markdown",
   "metadata": {},
   "source": [
    "Para este problema se decidió darle mayor importancia a detectar casos reales con atraso, por lo tanto se le da improtancia a la meterica **Recall**, la cual alcanzo un valor de 0.90 en el set de testing. (En desmedro de que tenemos una precision de solo un 0.23, es decir, el modelo tiene una tasa de falsos positivos bien alta)\n",
    "\n",
    "Escogimso el algoritmo lightgbm, ya que esta clase de algoritmos funciona muy bien en data tabular con alata cardoinalidad, si hacemos una rveisión de la literatura (https://sebastianraschka.com/blog/2022/deep-learning-for-tabular-data.html), vemos que la performance de algoritmos basados en arboles boosteados sigue siendo superior a metodos de redes neuronales en data tabular. Se escogió Lightgbm, por sobre Xgboost o Catboost, simplemente porque tiene una mejor performance en una humilde maquina como la mia."
   ]
  },
  {
   "cell_type": "code",
   "execution_count": 116,
   "metadata": {},
   "outputs": [],
   "source": [
    "from sklearn.metrics import precision_score, recall_score, f1_score, accuracy_score, plot_confusion_matrix"
   ]
  },
  {
   "cell_type": "code",
   "execution_count": 117,
   "metadata": {},
   "outputs": [
    {
     "name": "stderr",
     "output_type": "stream",
     "text": [
      "c:\\ProgramData\\Anaconda3\\lib\\site-packages\\sklearn\\utils\\deprecation.py:87: FutureWarning: Function plot_confusion_matrix is deprecated; Function `plot_confusion_matrix` is deprecated in 1.0 and will be removed in 1.2. Use one of the class methods: ConfusionMatrixDisplay.from_predictions or ConfusionMatrixDisplay.from_estimator.\n",
      "  warnings.warn(msg, category=FutureWarning)\n"
     ]
    },
    {
     "data": {
      "image/png": "[encoded data removed]",
      "text/plain": [
       "<Figure size 432x288 with 2 Axes>"
      ]
     },
     "metadata": {
      "needs_background": "light"
     },
     "output_type": "display_data"
    },
    {
     "name": "stdout",
     "output_type": "stream",
     "text": [
      "Precision: 0.232\n",
      "Recall: 0.902\n",
      "F1: 0.370\n",
      "Accuracy: 0.427\n"
     ]
    }
   ],
   "source": [
    "y_pred = cv_lgbm.predict(X_test)\n",
    "    \n",
    "plot_confusion_matrix(cv_lgbm, X_test, y_test, cmap='GnBu')\n",
    "plt.show()\n",
    "print('Precision: %.3f' % precision_score(y_test, y_pred))\n",
    "print('Recall: %.3f' % recall_score(y_test, y_pred))\n",
    "print('F1: %.3f' % f1_score(y_test, y_pred))\n",
    "print('Accuracy: %.3f' % accuracy_score(y_test, y_pred))"
   ]
  },
  {
   "cell_type": "code",
   "execution_count": 125,
   "metadata": {},
   "outputs": [],
   "source": [
    "features_lgbm = list(cv_lgbm.best_estimator_[0].get_feature_names_out())\n",
    "importancia_lgbm =cv_lgbm.best_estimator_.named_steps['classifier'].feature_importances_\n",
    "feature_imprtance = pd.DataFrame({'Variable': features_lgbm, 'Importancia': importancia_lgbm}) \\\n",
    ".sort_values('Importancia', ascending= False)"
   ]
  },
  {
   "cell_type": "code",
   "execution_count": 138,
   "metadata": {},
   "outputs": [
    {
     "data": {
      "image/png": "[encoded data removed]",
      "text/plain": [
       "<Figure size 1440x576 with 1 Axes>"
      ]
     },
     "metadata": {
      "needs_background": "light"
     },
     "output_type": "display_data"
    }
   ],
   "source": [
    "sns.catplot(data=feature_imprtance, \n",
    "            x='Variable', \n",
    "            y ='Importancia',\n",
    "            kind=\"bar\",\n",
    "            height=8, aspect=2.5)\n",
    "plt.xticks(rotation=90, size =  8)\n",
    "plt.tight_layout()"
   ]
  },
  {
   "cell_type": "markdown",
   "metadata": {},
   "source": [
    "Al analizar la importancia de las variables, vemos que la distancia es muy importante :) , seguido por  la semana del mes y periodo del día. Hay que pensar en una forma de disminuir la cantidad de aerolineas, ya que hay demasiado ruido con esa variable.\n",
    "\n",
    "Creo que para mejorar la performance podriamos incorporar una variable que muestre el nivel de atraso de vuelos anteriores. Asi como en las consultas medicas si hay un atraso con un paciente, todas las siguientes consultas se atrasan, quizas en la operación de aviones suceda algo similar."
   ]
  }
 ],
 "metadata": {
  "kernelspec": {
   "display_name": "Python 3.8.8 ('base')",
   "language": "python",
   "name": "python3"
  },
  "language_info": {
   "codemirror_mode": {
    "name": "ipython",
    "version": 3
   },
   "file_extension": ".py",
   "mimetype": "text/x-python",
   "name": "python",
   "nbconvert_exporter": "python",
   "pygments_lexer": "ipython3",
   "version": "3.8.8"
  },
  "orig_nbformat": 4,
  "vscode": {
   "interpreter": {
    "hash": "ad2bdc8ecc057115af97d19610ffacc2b4e99fae6737bb82f5d7fb13d2f2c186"
   }
  }
 },
 "nbformat": 4,
 "nbformat_minor": 2
}
