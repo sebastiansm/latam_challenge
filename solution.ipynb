{
 "cells": [
  {
   "cell_type": "code",
   "execution_count": 141,
   "metadata": {},
   "outputs": [],
   "source": [
    "import pandas as pd\n",
    "import numpy as np\n",
    "import datetime\n",
    "import seaborn as sns\n",
    "import matplotlib.pyplot as plt\n",
    "%matplotlib inline"
   ]
  },
  {
   "cell_type": "code",
   "execution_count": 142,
   "metadata": {},
   "outputs": [
    {
     "name": "stderr",
     "output_type": "stream",
     "text": [
      "c:\\ProgramData\\Anaconda3\\lib\\site-packages\\IPython\\core\\interactiveshell.py:3165: DtypeWarning: Columns (1,6) have mixed types.Specify dtype option on import or set low_memory=False.\n",
      "  has_raised = await self.run_ast_nodes(code_ast.body, cell_name,\n"
     ]
    }
   ],
   "source": [
    "df = pd.read_csv('dataset_SCL.csv')"
   ]
  },
  {
   "cell_type": "code",
   "execution_count": null,
   "metadata": {},
   "outputs": [],
   "source": [
    "'''\n",
    "Detalle de variables:\n",
    "\n",
    "Fecha-I : Fecha y hora programada del vuelo.\n",
    "Vlo-I : Número de vuelo programado.\n",
    "Ori-I : Código de ciudad de origen programado.\n",
    "Des-I : Código de ciudad de destino programado.\n",
    "Emp-I : Código aerolínea de vuelo programado.\n",
    "Fecha-O : Fecha y hora de operación del vuelo.\n",
    "Vlo-O : Número de vuelo de operación del vuelo.\n",
    "Ori-O : Código de ciudad de origen de operación\n",
    "Des-O : Código de ciudad de destino de operación.\n",
    "Emp-O : Código aerolínea de vuelo operado.\n",
    "DIA : Día del mes de operación del vuelo.\n",
    "MES : Número de mes de operación del vuelo.\n",
    "AÑO : Año de operación del vuelo.\n",
    "DIANOM : Día de la semana de operación del vuelo.\n",
    "TIPOVUELO : Tipo de vuelo, I =Internacional, N =Nacional.\n",
    "OPERA : Nombre de aerolínea que opera.\n",
    "SIGLAORI : Nombre ciudad origen.\n",
    "SIGLADES : Nombre ciudad destino.\n",
    "'''"
   ]
  },
  {
   "cell_type": "code",
   "execution_count": 143,
   "metadata": {},
   "outputs": [
    {
     "data": {
      "text/html": [
       "<div>\n",
       "<style scoped>\n",
       "    .dataframe tbody tr th:only-of-type {\n",
       "        vertical-align: middle;\n",
       "    }\n",
       "\n",
       "    .dataframe tbody tr th {\n",
       "        vertical-align: top;\n",
       "    }\n",
       "\n",
       "    .dataframe thead th {\n",
       "        text-align: right;\n",
       "    }\n",
       "</style>\n",
       "<table border=\"1\" class=\"dataframe\">\n",
       "  <thead>\n",
       "    <tr style=\"text-align: right;\">\n",
       "      <th></th>\n",
       "      <th>Fecha-I</th>\n",
       "      <th>Vlo-I</th>\n",
       "      <th>Ori-I</th>\n",
       "      <th>Des-I</th>\n",
       "      <th>Emp-I</th>\n",
       "      <th>Fecha-O</th>\n",
       "      <th>Vlo-O</th>\n",
       "      <th>Ori-O</th>\n",
       "      <th>Des-O</th>\n",
       "      <th>Emp-O</th>\n",
       "      <th>DIA</th>\n",
       "      <th>MES</th>\n",
       "      <th>AÑO</th>\n",
       "      <th>DIANOM</th>\n",
       "      <th>TIPOVUELO</th>\n",
       "      <th>OPERA</th>\n",
       "      <th>SIGLAORI</th>\n",
       "      <th>SIGLADES</th>\n",
       "    </tr>\n",
       "  </thead>\n",
       "  <tbody>\n",
       "    <tr>\n",
       "      <th>0</th>\n",
       "      <td>2017-01-01 23:30:00</td>\n",
       "      <td>226</td>\n",
       "      <td>SCEL</td>\n",
       "      <td>KMIA</td>\n",
       "      <td>AAL</td>\n",
       "      <td>2017-01-01 23:33:00</td>\n",
       "      <td>226</td>\n",
       "      <td>SCEL</td>\n",
       "      <td>KMIA</td>\n",
       "      <td>AAL</td>\n",
       "      <td>1</td>\n",
       "      <td>1</td>\n",
       "      <td>2017</td>\n",
       "      <td>Domingo</td>\n",
       "      <td>I</td>\n",
       "      <td>American Airlines</td>\n",
       "      <td>Santiago</td>\n",
       "      <td>Miami</td>\n",
       "    </tr>\n",
       "    <tr>\n",
       "      <th>1</th>\n",
       "      <td>2017-01-02 23:30:00</td>\n",
       "      <td>226</td>\n",
       "      <td>SCEL</td>\n",
       "      <td>KMIA</td>\n",
       "      <td>AAL</td>\n",
       "      <td>2017-01-02 23:39:00</td>\n",
       "      <td>226</td>\n",
       "      <td>SCEL</td>\n",
       "      <td>KMIA</td>\n",
       "      <td>AAL</td>\n",
       "      <td>2</td>\n",
       "      <td>1</td>\n",
       "      <td>2017</td>\n",
       "      <td>Lunes</td>\n",
       "      <td>I</td>\n",
       "      <td>American Airlines</td>\n",
       "      <td>Santiago</td>\n",
       "      <td>Miami</td>\n",
       "    </tr>\n",
       "    <tr>\n",
       "      <th>2</th>\n",
       "      <td>2017-01-03 23:30:00</td>\n",
       "      <td>226</td>\n",
       "      <td>SCEL</td>\n",
       "      <td>KMIA</td>\n",
       "      <td>AAL</td>\n",
       "      <td>2017-01-03 23:39:00</td>\n",
       "      <td>226</td>\n",
       "      <td>SCEL</td>\n",
       "      <td>KMIA</td>\n",
       "      <td>AAL</td>\n",
       "      <td>3</td>\n",
       "      <td>1</td>\n",
       "      <td>2017</td>\n",
       "      <td>Martes</td>\n",
       "      <td>I</td>\n",
       "      <td>American Airlines</td>\n",
       "      <td>Santiago</td>\n",
       "      <td>Miami</td>\n",
       "    </tr>\n",
       "    <tr>\n",
       "      <th>3</th>\n",
       "      <td>2017-01-04 23:30:00</td>\n",
       "      <td>226</td>\n",
       "      <td>SCEL</td>\n",
       "      <td>KMIA</td>\n",
       "      <td>AAL</td>\n",
       "      <td>2017-01-04 23:33:00</td>\n",
       "      <td>226</td>\n",
       "      <td>SCEL</td>\n",
       "      <td>KMIA</td>\n",
       "      <td>AAL</td>\n",
       "      <td>4</td>\n",
       "      <td>1</td>\n",
       "      <td>2017</td>\n",
       "      <td>Miercoles</td>\n",
       "      <td>I</td>\n",
       "      <td>American Airlines</td>\n",
       "      <td>Santiago</td>\n",
       "      <td>Miami</td>\n",
       "    </tr>\n",
       "    <tr>\n",
       "      <th>4</th>\n",
       "      <td>2017-01-05 23:30:00</td>\n",
       "      <td>226</td>\n",
       "      <td>SCEL</td>\n",
       "      <td>KMIA</td>\n",
       "      <td>AAL</td>\n",
       "      <td>2017-01-05 23:28:00</td>\n",
       "      <td>226</td>\n",
       "      <td>SCEL</td>\n",
       "      <td>KMIA</td>\n",
       "      <td>AAL</td>\n",
       "      <td>5</td>\n",
       "      <td>1</td>\n",
       "      <td>2017</td>\n",
       "      <td>Jueves</td>\n",
       "      <td>I</td>\n",
       "      <td>American Airlines</td>\n",
       "      <td>Santiago</td>\n",
       "      <td>Miami</td>\n",
       "    </tr>\n",
       "  </tbody>\n",
       "</table>\n",
       "</div>"
      ],
      "text/plain": [
       "               Fecha-I Vlo-I Ori-I Des-I Emp-I              Fecha-O Vlo-O  \\\n",
       "0  2017-01-01 23:30:00   226  SCEL  KMIA   AAL  2017-01-01 23:33:00   226   \n",
       "1  2017-01-02 23:30:00   226  SCEL  KMIA   AAL  2017-01-02 23:39:00   226   \n",
       "2  2017-01-03 23:30:00   226  SCEL  KMIA   AAL  2017-01-03 23:39:00   226   \n",
       "3  2017-01-04 23:30:00   226  SCEL  KMIA   AAL  2017-01-04 23:33:00   226   \n",
       "4  2017-01-05 23:30:00   226  SCEL  KMIA   AAL  2017-01-05 23:28:00   226   \n",
       "\n",
       "  Ori-O Des-O Emp-O  DIA  MES   AÑO     DIANOM TIPOVUELO              OPERA  \\\n",
       "0  SCEL  KMIA   AAL    1    1  2017    Domingo         I  American Airlines   \n",
       "1  SCEL  KMIA   AAL    2    1  2017      Lunes         I  American Airlines   \n",
       "2  SCEL  KMIA   AAL    3    1  2017     Martes         I  American Airlines   \n",
       "3  SCEL  KMIA   AAL    4    1  2017  Miercoles         I  American Airlines   \n",
       "4  SCEL  KMIA   AAL    5    1  2017     Jueves         I  American Airlines   \n",
       "\n",
       "   SIGLAORI SIGLADES  \n",
       "0  Santiago    Miami  \n",
       "1  Santiago    Miami  \n",
       "2  Santiago    Miami  \n",
       "3  Santiago    Miami  \n",
       "4  Santiago    Miami  "
      ]
     },
     "execution_count": 143,
     "metadata": {},
     "output_type": "execute_result"
    }
   ],
   "source": [
    "df.head()"
   ]
  },
  {
   "cell_type": "markdown",
   "metadata": {},
   "source": [
    "# Desafío"
   ]
  },
  {
   "cell_type": "markdown",
   "metadata": {},
   "source": [
    "##### ¿Cómo se distribuyen los datos? ¿Qué te llama la atención o cuál es tu conclusión sobre esto?"
   ]
  },
  {
   "cell_type": "markdown",
   "metadata": {},
   "source": [
    "El dataset cuenta con 68.206 filas y 18 columnas"
   ]
  },
  {
   "cell_type": "code",
   "execution_count": 144,
   "metadata": {},
   "outputs": [
    {
     "data": {
      "text/plain": [
       "(68206, 18)"
      ]
     },
     "execution_count": 144,
     "metadata": {},
     "output_type": "execute_result"
    }
   ],
   "source": [
    "df.shape"
   ]
  },
  {
   "cell_type": "markdown",
   "metadata": {},
   "source": [
    "Tenemos solo un dato nulo en el campo 'Vlo-O' (Número de vuelo de operación del vuelo.)"
   ]
  },
  {
   "cell_type": "code",
   "execution_count": 145,
   "metadata": {},
   "outputs": [
    {
     "data": {
      "text/plain": [
       "Fecha-I      0\n",
       "Vlo-I        0\n",
       "Ori-I        0\n",
       "Des-I        0\n",
       "Emp-I        0\n",
       "Fecha-O      0\n",
       "Vlo-O        1\n",
       "Ori-O        0\n",
       "Des-O        0\n",
       "Emp-O        0\n",
       "DIA          0\n",
       "MES          0\n",
       "AÑO          0\n",
       "DIANOM       0\n",
       "TIPOVUELO    0\n",
       "OPERA        0\n",
       "SIGLAORI     0\n",
       "SIGLADES     0\n",
       "dtype: int64"
      ]
     },
     "execution_count": 145,
     "metadata": {},
     "output_type": "execute_result"
    }
   ],
   "source": [
    "df.isnull().sum()"
   ]
  },
  {
   "cell_type": "code",
   "execution_count": 146,
   "metadata": {},
   "outputs": [
    {
     "data": {
      "text/html": [
       "<div>\n",
       "<style scoped>\n",
       "    .dataframe tbody tr th:only-of-type {\n",
       "        vertical-align: middle;\n",
       "    }\n",
       "\n",
       "    .dataframe tbody tr th {\n",
       "        vertical-align: top;\n",
       "    }\n",
       "\n",
       "    .dataframe thead th {\n",
       "        text-align: right;\n",
       "    }\n",
       "</style>\n",
       "<table border=\"1\" class=\"dataframe\">\n",
       "  <thead>\n",
       "    <tr style=\"text-align: right;\">\n",
       "      <th></th>\n",
       "      <th>Fecha-I</th>\n",
       "      <th>Vlo-I</th>\n",
       "      <th>Ori-I</th>\n",
       "      <th>Des-I</th>\n",
       "      <th>Emp-I</th>\n",
       "      <th>Fecha-O</th>\n",
       "      <th>Vlo-O</th>\n",
       "      <th>Ori-O</th>\n",
       "      <th>Des-O</th>\n",
       "      <th>Emp-O</th>\n",
       "      <th>DIA</th>\n",
       "      <th>MES</th>\n",
       "      <th>AÑO</th>\n",
       "      <th>DIANOM</th>\n",
       "      <th>TIPOVUELO</th>\n",
       "      <th>OPERA</th>\n",
       "      <th>SIGLAORI</th>\n",
       "      <th>SIGLADES</th>\n",
       "    </tr>\n",
       "  </thead>\n",
       "  <tbody>\n",
       "    <tr>\n",
       "      <th>6068</th>\n",
       "      <td>2017-01-19 11:00:00</td>\n",
       "      <td>200</td>\n",
       "      <td>SCEL</td>\n",
       "      <td>SPJC</td>\n",
       "      <td>LAW</td>\n",
       "      <td>2017-01-19 11:03:00</td>\n",
       "      <td>NaN</td>\n",
       "      <td>SCEL</td>\n",
       "      <td>SPJC</td>\n",
       "      <td>56R</td>\n",
       "      <td>19</td>\n",
       "      <td>1</td>\n",
       "      <td>2017</td>\n",
       "      <td>Jueves</td>\n",
       "      <td>I</td>\n",
       "      <td>Latin American Wings</td>\n",
       "      <td>Santiago</td>\n",
       "      <td>Lima</td>\n",
       "    </tr>\n",
       "  </tbody>\n",
       "</table>\n",
       "</div>"
      ],
      "text/plain": [
       "                  Fecha-I Vlo-I Ori-I Des-I Emp-I              Fecha-O Vlo-O  \\\n",
       "6068  2017-01-19 11:00:00   200  SCEL  SPJC   LAW  2017-01-19 11:03:00   NaN   \n",
       "\n",
       "     Ori-O Des-O Emp-O  DIA  MES   AÑO  DIANOM TIPOVUELO  \\\n",
       "6068  SCEL  SPJC   56R   19    1  2017  Jueves         I   \n",
       "\n",
       "                     OPERA  SIGLAORI SIGLADES  \n",
       "6068  Latin American Wings  Santiago     Lima  "
      ]
     },
     "execution_count": 146,
     "metadata": {},
     "output_type": "execute_result"
    }
   ],
   "source": [
    "df[df['Vlo-O'].isnull()]"
   ]
  },
  {
   "cell_type": "markdown",
   "metadata": {},
   "source": [
    "Podemos ver que en 97% de os casos el campo 'Vlo-O' es identico al campo 'Vlo-I', por lo tanto, para este caso nulo remplazaremos ese valor."
   ]
  },
  {
   "cell_type": "code",
   "execution_count": 147,
   "metadata": {},
   "outputs": [
    {
     "data": {
      "text/plain": [
       "0.9728762865437058"
      ]
     },
     "execution_count": 147,
     "metadata": {},
     "output_type": "execute_result"
    }
   ],
   "source": [
    "df[df['Vlo-O']==df['Vlo-I']].shape[0]/df.shape[0]"
   ]
  },
  {
   "cell_type": "code",
   "execution_count": 148,
   "metadata": {},
   "outputs": [],
   "source": [
    "df['Vlo-O'] = df['Vlo-O'].fillna(df['Vlo-I'])"
   ]
  },
  {
   "cell_type": "markdown",
   "metadata": {},
   "source": [
    "Al ver los tipos de datos, vemos que predominan los datos categoricos. \n",
    "\n",
    "Tranformaremos los campos 'Fecha-I' y 'Fecha-O' de object a datetime"
   ]
  },
  {
   "cell_type": "code",
   "execution_count": 149,
   "metadata": {},
   "outputs": [
    {
     "data": {
      "text/plain": [
       "Fecha-I      object\n",
       "Vlo-I        object\n",
       "Ori-I        object\n",
       "Des-I        object\n",
       "Emp-I        object\n",
       "Fecha-O      object\n",
       "Vlo-O        object\n",
       "Ori-O        object\n",
       "Des-O        object\n",
       "Emp-O        object\n",
       "DIA           int64\n",
       "MES           int64\n",
       "AÑO           int64\n",
       "DIANOM       object\n",
       "TIPOVUELO    object\n",
       "OPERA        object\n",
       "SIGLAORI     object\n",
       "SIGLADES     object\n",
       "dtype: object"
      ]
     },
     "execution_count": 149,
     "metadata": {},
     "output_type": "execute_result"
    }
   ],
   "source": [
    "df.dtypes"
   ]
  },
  {
   "cell_type": "code",
   "execution_count": 150,
   "metadata": {},
   "outputs": [],
   "source": [
    "df[[\"Fecha-I\", \"Fecha-O\"]] = df[[\"Fecha-I\", \"Fecha-O\"]].apply(pd.to_datetime)"
   ]
  },
  {
   "cell_type": "markdown",
   "metadata": {},
   "source": [
    "El rango temporal de los vuelos porgramados corresponde a todo el año 2017, en los vuelos programados a última hora del 2017 desbordaron al al 1 de enero del 2018.\n",
    "\n",
    "Al graficar los datos, se observan peaks en la epoca de verano, vavaciones de invierno y una disminución entre marzo y julio.\n",
    "\n",
    "Los campos DIA, MES, AÑO, corresponden a la Fehca de operación. Crearemos campos similares para la Fecha Programada.\n",
    "\n",
    "Más adelante observaremos en mayor detalle los cruces por tipo de vuelo, destinos, horarios, etc."
   ]
  },
  {
   "cell_type": "code",
   "execution_count": 151,
   "metadata": {},
   "outputs": [
    {
     "data": {
      "text/html": [
       "<div>\n",
       "<style scoped>\n",
       "    .dataframe tbody tr th:only-of-type {\n",
       "        vertical-align: middle;\n",
       "    }\n",
       "\n",
       "    .dataframe tbody tr th {\n",
       "        vertical-align: top;\n",
       "    }\n",
       "\n",
       "    .dataframe thead th {\n",
       "        text-align: right;\n",
       "    }\n",
       "</style>\n",
       "<table border=\"1\" class=\"dataframe\">\n",
       "  <thead>\n",
       "    <tr style=\"text-align: right;\">\n",
       "      <th></th>\n",
       "      <th>Fecha-I</th>\n",
       "      <th>Fecha-O</th>\n",
       "      <th>DIA</th>\n",
       "      <th>MES</th>\n",
       "      <th>AÑO</th>\n",
       "    </tr>\n",
       "  </thead>\n",
       "  <tbody>\n",
       "    <tr>\n",
       "      <th>count</th>\n",
       "      <td>68206</td>\n",
       "      <td>68206</td>\n",
       "      <td>68206.000000</td>\n",
       "      <td>68206.000000</td>\n",
       "      <td>68206.000000</td>\n",
       "    </tr>\n",
       "    <tr>\n",
       "      <th>mean</th>\n",
       "      <td>2017-07-05 12:11:25.320059648</td>\n",
       "      <td>2017-07-05 12:20:31.971380992</td>\n",
       "      <td>15.714790</td>\n",
       "      <td>6.622585</td>\n",
       "      <td>2017.000029</td>\n",
       "    </tr>\n",
       "    <tr>\n",
       "      <th>min</th>\n",
       "      <td>2017-01-01 00:15:00</td>\n",
       "      <td>2017-01-01 00:04:00</td>\n",
       "      <td>1.000000</td>\n",
       "      <td>1.000000</td>\n",
       "      <td>2017.000000</td>\n",
       "    </tr>\n",
       "    <tr>\n",
       "      <th>25%</th>\n",
       "      <td>2017-03-31 12:41:15</td>\n",
       "      <td>2017-03-31 12:51:15</td>\n",
       "      <td>8.000000</td>\n",
       "      <td>3.000000</td>\n",
       "      <td>2017.000000</td>\n",
       "    </tr>\n",
       "    <tr>\n",
       "      <th>50%</th>\n",
       "      <td>2017-07-10 05:30:00</td>\n",
       "      <td>2017-07-10 05:37:00</td>\n",
       "      <td>16.000000</td>\n",
       "      <td>7.000000</td>\n",
       "      <td>2017.000000</td>\n",
       "    </tr>\n",
       "    <tr>\n",
       "      <th>75%</th>\n",
       "      <td>2017-10-08 11:18:45</td>\n",
       "      <td>2017-10-08 11:19:45</td>\n",
       "      <td>23.000000</td>\n",
       "      <td>10.000000</td>\n",
       "      <td>2017.000000</td>\n",
       "    </tr>\n",
       "    <tr>\n",
       "      <th>max</th>\n",
       "      <td>2017-12-31 23:55:00</td>\n",
       "      <td>2018-01-01 00:12:00</td>\n",
       "      <td>31.000000</td>\n",
       "      <td>12.000000</td>\n",
       "      <td>2018.000000</td>\n",
       "    </tr>\n",
       "    <tr>\n",
       "      <th>std</th>\n",
       "      <td>NaN</td>\n",
       "      <td>NaN</td>\n",
       "      <td>8.782886</td>\n",
       "      <td>3.523321</td>\n",
       "      <td>0.005415</td>\n",
       "    </tr>\n",
       "  </tbody>\n",
       "</table>\n",
       "</div>"
      ],
      "text/plain": [
       "                             Fecha-I                        Fecha-O  \\\n",
       "count                          68206                          68206   \n",
       "mean   2017-07-05 12:11:25.320059648  2017-07-05 12:20:31.971380992   \n",
       "min              2017-01-01 00:15:00            2017-01-01 00:04:00   \n",
       "25%              2017-03-31 12:41:15            2017-03-31 12:51:15   \n",
       "50%              2017-07-10 05:30:00            2017-07-10 05:37:00   \n",
       "75%              2017-10-08 11:18:45            2017-10-08 11:19:45   \n",
       "max              2017-12-31 23:55:00            2018-01-01 00:12:00   \n",
       "std                              NaN                            NaN   \n",
       "\n",
       "                DIA           MES           AÑO  \n",
       "count  68206.000000  68206.000000  68206.000000  \n",
       "mean      15.714790      6.622585   2017.000029  \n",
       "min        1.000000      1.000000   2017.000000  \n",
       "25%        8.000000      3.000000   2017.000000  \n",
       "50%       16.000000      7.000000   2017.000000  \n",
       "75%       23.000000     10.000000   2017.000000  \n",
       "max       31.000000     12.000000   2018.000000  \n",
       "std        8.782886      3.523321      0.005415  "
      ]
     },
     "execution_count": 151,
     "metadata": {},
     "output_type": "execute_result"
    }
   ],
   "source": [
    "df.describe(datetime_is_numeric= True)"
   ]
  },
  {
   "cell_type": "code",
   "execution_count": 152,
   "metadata": {},
   "outputs": [
    {
     "data": {
      "image/png": "[encoded data removed]",
      "text/plain": [
       "<Figure size 1080x360 with 6 Axes>"
      ]
     },
     "metadata": {
      "needs_background": "light"
     },
     "output_type": "display_data"
    }
   ],
   "source": [
    "df.hist(figsize=(15, 5), bins=50, xlabelsize=7, ylabelsize=7, layout = (2,3));"
   ]
  },
  {
   "cell_type": "markdown",
   "metadata": {},
   "source": [
    "Al analizar los datos categoricos vemos lo siguiente:\n",
    "\n",
    "Tenemos 750 codigos de vuelos únicos en el campo 'Vlo-I' y 866 en el campo 'Vlo-O'. ¿Los vuelos con cambios de codigo implicaran algun atraso? Crearemos esa variable más adelante para validar.\n",
    "\n",
    "Origene del vuelo: 'Ori-I', 'Ori-O', y SIGLAORI son todas únicas y hacen referencia a Santiago de forma consitente. Al momoento de modelar no consideraremso estas variable ya que no aportan información para discriminar.\n",
    "\n",
    "Destinos del vuelo: 'Des-I' (64 únicos), 'Des-O' (63 únicos), SIGLADES (62 únicos). Al igual que con número de vuelo observaremos si hay diferencias en los destinos programados/operados y si tienen implicancia con atrasos.\n",
    "\n",
    "Empresas: Emp-I(30 únicas), Emp-O(32 únicas) y OPERA (23 únicas). Veremos el porque de los distintos valores y si podemos quedarnos solo con 'Emp-I' al momento de entrenar el modelo.\n",
    "\n",
    "Día del vuelo: DIANOM, contiene los 7 días de la semana, y el mayoritario es el día viernes.\n",
    "\n",
    "Tipo de Vuelo: de los 68mil vuelos, 37mil son nacionales. \n",
    "\n",
    "**Aqui una nota sobre el problema: cuando estemos modelando si un vuelo tendrá atras o no, para evitar leak de información que no tendriamos a disposición en una caso real, no podemos considerar como variables predictoras las variables con '-O' ya que es información futura al momento de la programación de un vuelo.**\n"
   ]
  },
  {
   "cell_type": "code",
   "execution_count": 153,
   "metadata": {},
   "outputs": [
    {
     "data": {
      "text/html": [
       "<div>\n",
       "<style scoped>\n",
       "    .dataframe tbody tr th:only-of-type {\n",
       "        vertical-align: middle;\n",
       "    }\n",
       "\n",
       "    .dataframe tbody tr th {\n",
       "        vertical-align: top;\n",
       "    }\n",
       "\n",
       "    .dataframe thead th {\n",
       "        text-align: right;\n",
       "    }\n",
       "</style>\n",
       "<table border=\"1\" class=\"dataframe\">\n",
       "  <thead>\n",
       "    <tr style=\"text-align: right;\">\n",
       "      <th></th>\n",
       "      <th>count</th>\n",
       "      <th>unique</th>\n",
       "      <th>top</th>\n",
       "      <th>freq</th>\n",
       "    </tr>\n",
       "  </thead>\n",
       "  <tbody>\n",
       "    <tr>\n",
       "      <th>Vlo-I</th>\n",
       "      <td>68206</td>\n",
       "      <td>750</td>\n",
       "      <td>174</td>\n",
       "      <td>686</td>\n",
       "    </tr>\n",
       "    <tr>\n",
       "      <th>Ori-I</th>\n",
       "      <td>68206</td>\n",
       "      <td>1</td>\n",
       "      <td>SCEL</td>\n",
       "      <td>68206</td>\n",
       "    </tr>\n",
       "    <tr>\n",
       "      <th>Des-I</th>\n",
       "      <td>68206</td>\n",
       "      <td>64</td>\n",
       "      <td>SCFA</td>\n",
       "      <td>5787</td>\n",
       "    </tr>\n",
       "    <tr>\n",
       "      <th>Emp-I</th>\n",
       "      <td>68206</td>\n",
       "      <td>30</td>\n",
       "      <td>LAN</td>\n",
       "      <td>37611</td>\n",
       "    </tr>\n",
       "    <tr>\n",
       "      <th>Vlo-O</th>\n",
       "      <td>68206</td>\n",
       "      <td>866</td>\n",
       "      <td>174</td>\n",
       "      <td>649</td>\n",
       "    </tr>\n",
       "    <tr>\n",
       "      <th>Ori-O</th>\n",
       "      <td>68206</td>\n",
       "      <td>1</td>\n",
       "      <td>SCEL</td>\n",
       "      <td>68206</td>\n",
       "    </tr>\n",
       "    <tr>\n",
       "      <th>Des-O</th>\n",
       "      <td>68206</td>\n",
       "      <td>63</td>\n",
       "      <td>SCFA</td>\n",
       "      <td>5786</td>\n",
       "    </tr>\n",
       "    <tr>\n",
       "      <th>Emp-O</th>\n",
       "      <td>68206</td>\n",
       "      <td>32</td>\n",
       "      <td>LAN</td>\n",
       "      <td>20988</td>\n",
       "    </tr>\n",
       "    <tr>\n",
       "      <th>DIANOM</th>\n",
       "      <td>68206</td>\n",
       "      <td>7</td>\n",
       "      <td>Viernes</td>\n",
       "      <td>10292</td>\n",
       "    </tr>\n",
       "    <tr>\n",
       "      <th>TIPOVUELO</th>\n",
       "      <td>68206</td>\n",
       "      <td>2</td>\n",
       "      <td>N</td>\n",
       "      <td>36966</td>\n",
       "    </tr>\n",
       "    <tr>\n",
       "      <th>OPERA</th>\n",
       "      <td>68206</td>\n",
       "      <td>23</td>\n",
       "      <td>Grupo LATAM</td>\n",
       "      <td>40892</td>\n",
       "    </tr>\n",
       "    <tr>\n",
       "      <th>SIGLAORI</th>\n",
       "      <td>68206</td>\n",
       "      <td>1</td>\n",
       "      <td>Santiago</td>\n",
       "      <td>68206</td>\n",
       "    </tr>\n",
       "    <tr>\n",
       "      <th>SIGLADES</th>\n",
       "      <td>68206</td>\n",
       "      <td>62</td>\n",
       "      <td>Buenos Aires</td>\n",
       "      <td>6335</td>\n",
       "    </tr>\n",
       "  </tbody>\n",
       "</table>\n",
       "</div>"
      ],
      "text/plain": [
       "           count unique           top   freq\n",
       "Vlo-I      68206    750           174    686\n",
       "Ori-I      68206      1          SCEL  68206\n",
       "Des-I      68206     64          SCFA   5787\n",
       "Emp-I      68206     30           LAN  37611\n",
       "Vlo-O      68206    866           174    649\n",
       "Ori-O      68206      1          SCEL  68206\n",
       "Des-O      68206     63          SCFA   5786\n",
       "Emp-O      68206     32           LAN  20988\n",
       "DIANOM     68206      7       Viernes  10292\n",
       "TIPOVUELO  68206      2             N  36966\n",
       "OPERA      68206     23   Grupo LATAM  40892\n",
       "SIGLAORI   68206      1      Santiago  68206\n",
       "SIGLADES   68206     62  Buenos Aires   6335"
      ]
     },
     "execution_count": 153,
     "metadata": {},
     "output_type": "execute_result"
    }
   ],
   "source": [
    "df.describe(include=['O']).transpose()\n"
   ]
  },
  {
   "cell_type": "markdown",
   "metadata": {},
   "source": [
    "A continuación exploraremos graficamente las  variables categoricas:"
   ]
  },
  {
   "cell_type": "markdown",
   "metadata": {},
   "source": [
    "Destinos: Los destinos más frecuentes son Buenos Aires, Antofagasta, Lima, Calama y Puerto Montt. "
   ]
  },
  {
   "cell_type": "code",
   "execution_count": 154,
   "metadata": {},
   "outputs": [
    {
     "data": {
      "image/png": "[encoded data removed]",
      "text/plain": [
       "<Figure size 900x360 with 1 Axes>"
      ]
     },
     "metadata": {
      "needs_background": "light"
     },
     "output_type": "display_data"
    }
   ],
   "source": [
    "sns.catplot(data=df, \n",
    "            x='SIGLADES', \n",
    "            kind=\"count\", \n",
    "            order = df['SIGLADES'].value_counts().index, \n",
    "            height=5, aspect=2.5)\n",
    "plt.xticks(rotation=90, size = 8)\n",
    "plt.show()"
   ]
  },
  {
   "cell_type": "markdown",
   "metadata": {},
   "source": [
    "Un alternativa a explorar sería obtener la geolocalización de los destinos y calcular la distancia del vuelo.\n",
    "\n",
    "Como hipotesis, Un vuelo de alta distancia deberia mover muchos más pasajeros y probablemente exista más probabilidad de atraso.\n",
    "\n",
    "Una busqueda en google, nos muestra que en el siguiente sitio tenemos todos los aeropuertos con codigo y coordenadas:\n",
    "https://ourairports.com/data/"
   ]
  },
  {
   "cell_type": "code",
   "execution_count": 155,
   "metadata": {},
   "outputs": [],
   "source": [
    "aeropuertos = pd.read_csv('airports.csv')\n",
    "#correción de aeropuerto de Perú https://ourairports.com/airports/SPIM/\n",
    "aeropuertos['ident'] = np.where(aeropuertos['ident']=='SPIM', 'SPJC', aeropuertos['ident']) "
   ]
  },
  {
   "cell_type": "code",
   "execution_count": 156,
   "metadata": {},
   "outputs": [],
   "source": [
    "#Cruzamos la ubicacion de destino y origen\n",
    "df = df.merge(aeropuertos[['ident','latitude_deg','longitude_deg']],\n",
    "                         left_on='Des-I', right_on='ident', how='left')\n",
    "df = df.merge(aeropuertos[['ident','latitude_deg','longitude_deg']],\n",
    "                         left_on='Ori-I', right_on='ident', how='left')\n",
    "#renombramos campos\n",
    "df = df.rename(columns={'latitude_deg_x': 'latitud_des', 'longitude_deg_x': 'longitude_des',\n",
    "                        'latitude_deg_y': 'latitud_ori', 'longitude_deg_y': 'longitude_ori'})\n",
    "df = df.drop(['ident_x','ident_y'], axis = 1)"
   ]
  },
  {
   "cell_type": "code",
   "execution_count": 157,
   "metadata": {},
   "outputs": [],
   "source": [
    "#Función para calcular distancia\n",
    "#https://stackoverflow.com/questions/40452759/pandas-latitude-longitude-to-distance-between-successive-rows\n",
    "def haversine(lat1, lon1, lat2, lon2, to_radians=True, earth_radius=6371):\n",
    "    if to_radians:\n",
    "        lat1, lon1, lat2, lon2 = np.radians([lat1, lon1, lat2, lon2])\n",
    "\n",
    "    a = np.sin((lat2-lat1)/2.0)**2 + \\\n",
    "        np.cos(lat1) * np.cos(lat2) * np.sin((lon2-lon1)/2.0)**2\n",
    "\n",
    "    return earth_radius * 2 * np.arcsin(np.sqrt(a))"
   ]
  },
  {
   "cell_type": "code",
   "execution_count": 158,
   "metadata": {},
   "outputs": [],
   "source": [
    "df['distancia'] = haversine(df['latitud_des'],df['longitude_des'],df['latitud_ori'],df['longitude_ori']).round().astype(int)"
   ]
  },
  {
   "cell_type": "markdown",
   "metadata": {},
   "source": [
    "La mayoría de los vuelos tienen una distancia de menos de 1.000km"
   ]
  },
  {
   "cell_type": "code",
   "execution_count": 159,
   "metadata": {},
   "outputs": [
    {
     "data": {
      "image/png": "[encoded data removed]",
      "text/plain": [
       "<Figure size 432x288 with 1 Axes>"
      ]
     },
     "metadata": {
      "needs_background": "light"
     },
     "output_type": "display_data"
    }
   ],
   "source": [
    "df.distancia.hist()\n",
    "plt.show()"
   ]
  },
  {
   "cell_type": "markdown",
   "metadata": {},
   "source": [
    "En vuelos nacionales tenemos 4 empresas, mientras que en Internacionales hay una alta cardinalidad."
   ]
  },
  {
   "cell_type": "code",
   "execution_count": 160,
   "metadata": {},
   "outputs": [
    {
     "data": {
      "image/png": "[encoded data removed]",
      "text/plain": [
       "<Figure size 900x720 with 2 Axes>"
      ]
     },
     "metadata": {
      "needs_background": "light"
     },
     "output_type": "display_data"
    }
   ],
   "source": [
    "sns.catplot(data=df, \n",
    "            x='Emp-I', \n",
    "            kind=\"count\", \n",
    "            row='TIPOVUELO',\n",
    "            order = df['Emp-I'].value_counts().index, \n",
    "            height=5, aspect=2.5)\n",
    "plt.xticks(rotation=70)\n",
    "#plt.xlabel('Vlo-I',fontsize=1)\n",
    "plt.tight_layout()"
   ]
  },
  {
   "cell_type": "markdown",
   "metadata": {},
   "source": [
    "Viernes, Jueves y Lunes son los días con más vuelos. Sábado es el día menos cargado."
   ]
  },
  {
   "cell_type": "code",
   "execution_count": 161,
   "metadata": {},
   "outputs": [
    {
     "data": {
      "image/png": "[encoded data removed]",
      "text/plain": [
       "<Figure size 900x360 with 1 Axes>"
      ]
     },
     "metadata": {
      "needs_background": "light"
     },
     "output_type": "display_data"
    }
   ],
   "source": [
    "sns.catplot(data=df, \n",
    "            x='DIANOM', \n",
    "            kind=\"count\",\n",
    "            order = ['Lunes','Martes','Miercoles','Jueves','Viernes','Sabado','Domingo'],\n",
    "            height=5, aspect=2.5)\n",
    "plt.xticks(rotation=70)\n",
    "#plt.xlabel('Vlo-I',fontsize=1)\n",
    "plt.tight_layout()"
   ]
  },
  {
   "cell_type": "markdown",
   "metadata": {},
   "source": [
    "##### Genera las columnas adicionales y luego expórtelas en un archivo 'synthetic_features.csv'"
   ]
  },
  {
   "cell_type": "code",
   "execution_count": null,
   "metadata": {},
   "outputs": [],
   "source": [
    "''' \n",
    "temporada_alta : 1 si Fecha-I está entre 15-Dic y 3-Mar, o 15-Jul y 31-Jul, o 11-Sep y 30-Sep, 0 si no.\n",
    "dif_min : diferencia en minutos entre Fecha-O y Fecha-I .\n",
    "atraso_15 : 1 si dif_min > 15, 0 si no.\n",
    "periodo_dia : mañana (entre 5:00 y 11:59), tarde (entre 12:00 y 18:59) y noche (entre 19:00 y 4:59), en base a\n",
    "Fecha-I .\n",
    "'''"
   ]
  },
  {
   "cell_type": "code",
   "execution_count": 181,
   "metadata": {},
   "outputs": [],
   "source": [
    "def temporada_alta(fecha):\n",
    "    fecha = datetime.date(year=1900, month=fecha.month, day=fecha.day)\n",
    "\n",
    "    if   datetime.date(1900, 12, 15) <= fecha <= datetime.date(1900, 3, 3) or \\\n",
    "         datetime.date(1900, 7, 15) <= fecha <= datetime.date(1900, 7, 31) or \\\n",
    "         datetime.date(1900, 9, 11) <= fecha <= datetime.date(1900, 9, 30):\n",
    "\n",
    "        return 1\n",
    "    else:\n",
    "        return 0       "
   ]
  },
  {
   "cell_type": "code",
   "execution_count": 182,
   "metadata": {},
   "outputs": [],
   "source": [
    "df['temporada_alta'] = df.apply(lambda x: temporada_alta(x['Fecha-I']), axis=1)"
   ]
  },
  {
   "cell_type": "code",
   "execution_count": 185,
   "metadata": {},
   "outputs": [],
   "source": [
    "def diferencia_minutos(fecha_fin, fecha_ini):\n",
    "    return int(round((fecha_fin - fecha_ini).total_seconds() / 60.0))"
   ]
  },
  {
   "cell_type": "code",
   "execution_count": 186,
   "metadata": {},
   "outputs": [],
   "source": [
    "df['dif_min'] = df.apply(lambda x: diferencia_minutos(x['Fecha-O'],x['Fecha-I']), axis=1)"
   ]
  },
  {
   "cell_type": "code",
   "execution_count": 187,
   "metadata": {},
   "outputs": [],
   "source": [
    "df['atraso_15 '] = np.where(df['dif_min'] > 15, 1, 0)"
   ]
  },
  {
   "cell_type": "code",
   "execution_count": 191,
   "metadata": {},
   "outputs": [],
   "source": [
    "def periodo_dia(hora):\n",
    "    hora = datetime.time(hour = hora.hour, minute = hora.minute)\n",
    "    if datetime.time(5,0) <= hora <= datetime.time(11,56):\n",
    "        return 'mañana'\n",
    "    elif datetime.time(12,0) <= hora <= datetime.time(18,59):\n",
    "        return 'tarde'\n",
    "    else:\n",
    "        return 'noche'"
   ]
  },
  {
   "cell_type": "code",
   "execution_count": 192,
   "metadata": {},
   "outputs": [],
   "source": [
    "df['periodo_dia'] = df.apply(lambda x: periodo_dia(x['Fecha-I']), axis=1)"
   ]
  }
 ],
 "metadata": {
  "kernelspec": {
   "display_name": "Python 3.8.8 ('base')",
   "language": "python",
   "name": "python3"
  },
  "language_info": {
   "codemirror_mode": {
    "name": "ipython",
    "version": 3
   },
   "file_extension": ".py",
   "mimetype": "text/x-python",
   "name": "python",
   "nbconvert_exporter": "python",
   "pygments_lexer": "ipython3",
   "version": "3.8.8"
  },
  "orig_nbformat": 4,
  "vscode": {
   "interpreter": {
    "hash": "ad2bdc8ecc057115af97d19610ffacc2b4e99fae6737bb82f5d7fb13d2f2c186"
   }
  }
 },
 "nbformat": 4,
 "nbformat_minor": 2
}
